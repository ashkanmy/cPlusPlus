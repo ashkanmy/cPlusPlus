{
  "nbformat": 4,
  "nbformat_minor": 0,
  "metadata": {
    "colab": {
      "name": "julia_notebook.ipynb",
      "provenance": [],
      "collapsed_sections": [],
      "include_colab_link": true
    },
    "kernelspec": {
      "name": "julia-1.5",
      "display_name": "Julia 1.5"
    },
    "accelerator": "GPU"
  },
  "cells": [
    {
      "cell_type": "markdown",
      "metadata": {
        "id": "view-in-github",
        "colab_type": "text"
      },
      "source": [
        "<a href=\"https://colab.research.google.com/github/ashkanmy/cPlusPlus/blob/master/julia_notebook.ipynb\" target=\"_parent\"><img src=\"https://colab.research.google.com/assets/colab-badge.svg\" alt=\"Open In Colab\"/></a>"
      ]
    },
    {
      "cell_type": "code",
      "metadata": {
        "id": "oMSuTc3pDlHv",
        "colab_type": "code",
        "colab": {}
      },
      "source": [
        "!wget https://developer.nvidia.com/compute/cuda/9.0/Prod/local_installers/cuda-repo-ubuntu1604-9-0-local_9.0.176-1_amd64-deb\n",
        "!dpkg -i cuda-repo-ubuntu1604-9-0-local_9.0.176-1_amd64-deb\n",
        "!apt-key add /var/cuda-repo-9-0-local/7fa2af80.pub\n",
        "!apt update -q\n",
        "!apt install cuda gcc-6 g++-6 -y -q\n",
        "!ln -s /usr/bin/gcc-6 /usr/local/cuda/bin/gcc\n",
        "!ln -s /usr/bin/g++-6 /usr/local/cuda/bin/g++\n",
        "\n",
        "!curl -sSL \"https://julialang-s3.julialang.org/bin/linux/x64/1.5/julia-1.5.1-linux-x86_64.tar.gz\" -o julia.tar.gz\n",
        "!tar -xzf julia.tar.gz -C /usr --strip-components 1\n",
        "!rm -rf julia.tar.gz*\n",
        "!julia -e 'using Pkg; pkg\"add IJulia; add CuArrays; add Flux; precompile\"'\n"
      ],
      "execution_count": null,
      "outputs": []
    },
    {
      "cell_type": "code",
      "metadata": {
        "id": "Ek8-yWcQafeM",
        "colab_type": "code",
        "colab": {}
      },
      "source": [
        "using Flux, DiffEqFlux, DifferentialEquations, Plots"
      ],
      "execution_count": 21,
      "outputs": []
    },
    {
      "cell_type": "code",
      "metadata": {
        "id": "qKGdcqREd5dh",
        "colab_type": "code",
        "colab": {
          "base_uri": "https://localhost:8080/",
          "height": 87
        },
        "outputId": "180b7cd4-fa22-4848-8b5d-35f28ff27af4"
      },
      "source": [
        "Pkg.add(\"Sundials\")"
      ],
      "execution_count": 35,
      "outputs": [
        {
          "output_type": "stream",
          "text": [
            "\u001b[32m\u001b[1m  Resolving\u001b[22m\u001b[39m package versions...\n",
            "\u001b[32m\u001b[1mUpdating\u001b[22m\u001b[39m `~/.julia/environments/v1.5/Project.toml`\n",
            " \u001b[90m [c3572dad] \u001b[39m\u001b[92m+ Sundials v3.8.3\u001b[39m\n",
            "\u001b[32m\u001b[1mNo Changes\u001b[22m\u001b[39m to `~/.julia/environments/v1.5/Manifest.toml`\n"
          ],
          "name": "stderr"
        }
      ]
    },
    {
      "cell_type": "code",
      "metadata": {
        "id": "5zowlNYkfCLk",
        "colab_type": "code",
        "colab": {
          "base_uri": "https://localhost:8080/",
          "height": 363
        },
        "outputId": "cd4792b6-3902-4805-a66c-98719425886e"
      },
      "source": [
        "using Flux, DiffEqFlux, DifferentialEquations, Optim, Plots \n",
        "\n",
        "u0 = Float32[2.; 0.]\n",
        "datasize = 30\n",
        "tspan = (0.0f0,1.5f0)\n",
        "\n",
        "function trueODEfunc(du,u,p,t)\n",
        "    true_A = [-0.1 2.0; -2.0 -0.1]\n",
        "    du .= ((u.^3)'true_A)'\n",
        "end\n",
        "t = range(tspan[1],tspan[2],length=datasize)\n",
        "prob = ODEProblem(trueODEfunc,u0,tspan)\n",
        "\n",
        "#ode_data = Array(solve(prob,Tsit5(),saveat=t))\n",
        "ode_data = solve(prob,Tsit5(),saveat=t)\n",
        "dudt = Chain(x -> x.^3,\n",
        "             Dense(2,50,tanh),\n",
        "             Dense(50,2))\n",
        "ps = Flux.params(dudt)\n",
        "n_ode = x->neural_ode(dudt,x,tspan,Tsit5(),saveat=t,reltol=1e-7,abstol=1e-9)\n",
        "\n",
        "pred = n_ode(u0) # Get the prediction using the correct initial condition\n",
        "#scatter(t,ode_data[1,:],label=\"data\")\n",
        "#scatter!(t,Flux.data(pred[1,:]),label=\"prediction\")\n",
        "\n",
        "function predict_n_ode()\n",
        "  n_ode(u0)\n",
        "end\n",
        "loss_n_ode() = sum(abs2,ode_data .- predict_n_ode())\n",
        "\n",
        "#---\n",
        "data = Iterators.repeated((), 1000)\n",
        "opt = ADAM(0.1)\n",
        "cb = function () #callback function to observe training\n",
        "  display(loss_n_ode())\n",
        "  # plot current prediction against data\n",
        "  cur_pred = Flux.data(predict_n_ode())\n",
        "  #pl = scatter(t,ode_data[1,:],label=\"data\");\n",
        "  #scatter!(pl,t,cur_pred[1,:],label=\"prediction\")\n",
        "  #display(plot(pl))\n",
        "  #---\n",
        "  plot(t,cur_pred[1,:])\n",
        "end\n",
        "\n",
        "# Display the ODE with the initial parameter values.\n",
        "cb()\n",
        "\n",
        "Flux.train!(loss_n_ode, ps, data, opt, cb = cb)"
      ],
      "execution_count": 117,
      "outputs": [
        {
          "output_type": "display_data",
          "data": {
            "text/plain": [
              "199.96216f0 (tracked)"
            ]
          },
          "metadata": {
            "tags": []
          }
        },
        {
          "output_type": "error",
          "ename": "LoadError",
          "evalue": "ignored",
          "traceback": [
            "MethodError: no method matching get_color_palette(::Symbol, ::RGBA{Float64}, ::Int64)\nClosest candidates are:\n  get_color_palette(::Any, ::Any) at /root/.julia/packages/PlotUtils/NS6Tf/src/colorschemes.jl:330\n  get_color_palette(!Matched::ColorGradient, ::Any) at /root/.julia/packages/PlotUtils/NS6Tf/src/colorschemes.jl:331",
            "",
            "Stacktrace:",
            " [1] _update_subplot_colors(::Plots.Subplot{Plots.GRBackend}) at /root/.julia/packages/Plots/WwFyB/src/args.jl:1436",
            " [2] _update_subplot_args(::Plots.Plot{Plots.GRBackend}, ::Plots.Subplot{Plots.GRBackend}, ::Dict{Symbol,Any}, ::Int64, ::Bool) at /root/.julia/packages/Plots/WwFyB/src/args.jl:1523",
            " [3] _subplot_setup(::Plots.Plot{Plots.GRBackend}, ::Dict{Symbol,Any}, ::Array{Dict{Symbol,Any},1}) at /root/.julia/packages/Plots/WwFyB/src/pipeline.jl:297",
            " [4] _plot!(::Plots.Plot{Plots.GRBackend}, ::Dict{Symbol,Any}, ::Tuple{StepRangeLen{Float32,Float64,Float64},Array{Float32,1}}) at /root/.julia/packages/Plots/WwFyB/src/plot.jl:206",
            " [5] plot(::StepRangeLen{Float32,Float64,Float64}, ::Vararg{Any,N} where N; kw::Base.Iterators.Pairs{Union{},Union{},Tuple{},NamedTuple{,Tuple{}}}) at /root/.julia/packages/Plots/WwFyB/src/plot.jl:57",
            " [6] plot(::StepRangeLen{Float32,Float64,Float64}, ::Array{Float32,1}) at /root/.julia/packages/Plots/WwFyB/src/plot.jl:51",
            " [7] (::var\"#163#164\")() at ./In[117]:42",
            " [8] top-level scope at In[117]:46",
            " [9] include_string(::Function, ::Module, ::String, ::String) at ./loading.jl:1091"
          ]
        }
      ]
    },
    {
      "cell_type": "code",
      "metadata": {
        "id": "j2qPpeJ9wtq3",
        "colab_type": "code",
        "colab": {
          "base_uri": "https://localhost:8080/",
          "height": 310
        },
        "outputId": "d297ad15-0091-47c9-d1c7-03a5fb32c550"
      },
      "source": [
        "using Plots\n",
        "plot(x -> x^2)"
      ],
      "execution_count": 86,
      "outputs": [
        {
          "output_type": "error",
          "ename": "LoadError",
          "evalue": "ignored",
          "traceback": [
            "MethodError: no method matching get_color_palette(::Symbol, ::RGBA{Float64}, ::Int64)\nClosest candidates are:\n  get_color_palette(::Any, ::Any) at /root/.julia/packages/PlotUtils/NS6Tf/src/colorschemes.jl:330\n  get_color_palette(!Matched::ColorGradient, ::Any) at /root/.julia/packages/PlotUtils/NS6Tf/src/colorschemes.jl:331",
            "",
            "Stacktrace:",
            " [1] _update_subplot_colors(::Plots.Subplot{Plots.GRBackend}) at /root/.julia/packages/Plots/WwFyB/src/args.jl:1436",
            " [2] _update_subplot_args(::Plots.Plot{Plots.GRBackend}, ::Plots.Subplot{Plots.GRBackend}, ::Dict{Symbol,Any}, ::Int64, ::Bool) at /root/.julia/packages/Plots/WwFyB/src/args.jl:1523",
            " [3] _subplot_setup(::Plots.Plot{Plots.GRBackend}, ::Dict{Symbol,Any}, ::Array{Dict{Symbol,Any},1}) at /root/.julia/packages/Plots/WwFyB/src/pipeline.jl:297",
            " [4] _plot!(::Plots.Plot{Plots.GRBackend}, ::Dict{Symbol,Any}, ::Tuple{var\"#103#104\"}) at /root/.julia/packages/Plots/WwFyB/src/plot.jl:206",
            " [5] plot(::Function; kw::Base.Iterators.Pairs{Union{},Union{},Tuple{},NamedTuple{,Tuple{}}}) at /root/.julia/packages/Plots/WwFyB/src/plot.jl:57",
            " [6] plot(::Function) at /root/.julia/packages/Plots/WwFyB/src/plot.jl:51",
            " [7] top-level scope at In[86]:2",
            " [8] include_string(::Function, ::Module, ::String, ::String) at ./loading.jl:1091"
          ]
        }
      ]
    },
    {
      "cell_type": "code",
      "metadata": {
        "id": "uj8Zkd6fxTMd",
        "colab_type": "code",
        "colab": {
          "base_uri": "https://localhost:8080/",
          "height": 1000
        },
        "outputId": "a43566ce-9661-4951-9d20-a5d6465e84db"
      },
      "source": [
        "]st -m"
      ],
      "execution_count": 88,
      "outputs": [
        {
          "output_type": "stream",
          "text": [
            "\u001b[32m\u001b[1mStatus\u001b[22m\u001b[39m `~/.julia/environments/v1.5/Manifest.toml`\n",
            " \u001b[90m [621f4979] \u001b[39m\u001b[37mAbstractFFTs v0.5.0\u001b[39m\n",
            " \u001b[90m [1520ce14] \u001b[39m\u001b[37mAbstractTrees v0.3.3\u001b[39m\n",
            " \u001b[90m [79e6a3ab] \u001b[39m\u001b[37mAdapt v1.1.0\u001b[39m\n",
            " \u001b[90m [ec485272] \u001b[39m\u001b[37mArnoldiMethod v0.0.4\u001b[39m\n",
            " \u001b[90m [4fba245c] \u001b[39m\u001b[37mArrayInterface v2.12.0\u001b[39m\n",
            " \u001b[90m [4c555306] \u001b[39m\u001b[37mArrayLayouts v0.3.8\u001b[39m\n",
            " \u001b[90m [bf4720bc] \u001b[39m\u001b[37mAssetRegistry v0.1.0\u001b[39m\n",
            " \u001b[90m [aae01518] \u001b[39m\u001b[37mBandedMatrices v0.15.15\u001b[39m\n",
            " \u001b[90m [b99e7846] \u001b[39m\u001b[37mBinaryProvider v0.5.10\u001b[39m\n",
            " \u001b[90m [764a87c0] \u001b[39m\u001b[37mBoundaryValueDiffEq v2.5.0\u001b[39m\n",
            " \u001b[90m [6e34b625] \u001b[39m\u001b[37mBzip2_jll v1.0.6+4\u001b[39m\n",
            " \u001b[90m [fa961155] \u001b[39m\u001b[37mCEnum v0.3.0\u001b[39m\n",
            " \u001b[90m [70588ee8] \u001b[39m\u001b[37mCSSUtil v0.1.1\u001b[39m\n",
            " \u001b[90m [3895d2a7] \u001b[39m\u001b[37mCUDAapi v4.0.0\u001b[39m\n",
            " \u001b[90m [c5f51814] \u001b[39m\u001b[37mCUDAdrv v6.3.0\u001b[39m\n",
            " \u001b[90m [be33ccc6] \u001b[39m\u001b[37mCUDAnative v3.2.0\u001b[39m\n",
            " \u001b[90m [49dc2e85] \u001b[39m\u001b[37mCalculus v0.5.1\u001b[39m\n",
            " \u001b[90m [324d7699] \u001b[39m\u001b[37mCategoricalArrays v0.8.1\u001b[39m\n",
            " \u001b[90m [082447d4] \u001b[39m\u001b[37mChainRules v0.7.15\u001b[39m\n",
            " \u001b[90m [d360d2e6] \u001b[39m\u001b[37mChainRulesCore v0.9.6\u001b[39m\n",
            " \u001b[90m [da1fd8a2] \u001b[39m\u001b[37mCodeTracking v1.0.0\u001b[39m\n",
            " \u001b[90m [944b1d66] \u001b[39m\u001b[37mCodecZlib v0.7.0\u001b[39m\n",
            " \u001b[90m [35d6a980] \u001b[39m\u001b[37mColorSchemes v3.9.0\u001b[39m\n",
            " \u001b[90m [3da002f7] \u001b[39m\u001b[37mColorTypes v0.10.8\u001b[39m\n",
            " \u001b[90m [5ae59095] \u001b[39m\u001b[37mColors v0.12.4\u001b[39m\n",
            " \u001b[90m [bbf7d656] \u001b[39m\u001b[37mCommonSubexpressions v0.3.0\u001b[39m\n",
            " \u001b[90m [34da2185] \u001b[39m\u001b[37mCompat v2.2.1\u001b[39m\n",
            " \u001b[90m [e66e0078] \u001b[39m\u001b[37mCompilerSupportLibraries_jll v0.3.3+0\u001b[39m\n",
            " \u001b[90m [8f4d0f93] \u001b[39m\u001b[37mConda v1.4.1\u001b[39m\n",
            " \u001b[90m [d38c429a] \u001b[39m\u001b[37mContour v0.5.4\u001b[39m\n",
            " \u001b[90m [adafc99b] \u001b[39m\u001b[37mCpuId v0.2.2\u001b[39m\n",
            " \u001b[90m [f68482b8] \u001b[39m\u001b[37mCthulhu v1.2.2\u001b[39m\n",
            " \u001b[90m [3a865a2d] \u001b[39m\u001b[37mCuArrays v2.2.2\u001b[39m\n",
            " \u001b[90m [9a962f9c] \u001b[39m\u001b[37mDataAPI v1.3.0\u001b[39m\n",
            " \u001b[90m [a93c6f00] \u001b[39m\u001b[37mDataFrames v0.21.7\u001b[39m\n",
            " \u001b[90m [864edb3b] \u001b[39m\u001b[37mDataStructures v0.17.20\u001b[39m\n",
            " \u001b[90m [e2d170a0] \u001b[39m\u001b[37mDataValueInterfaces v1.0.0\u001b[39m\n",
            " \u001b[90m [bcd4f6db] \u001b[39m\u001b[37mDelayDiffEq v5.19.0\u001b[39m\n",
            " \u001b[90m [2b5f629d] \u001b[39m\u001b[37mDiffEqBase v6.10.0\u001b[39m\n",
            " \u001b[90m [459566f4] \u001b[39m\u001b[37mDiffEqCallbacks v2.10.0\u001b[39m\n",
            " \u001b[90m [01453d9d] \u001b[39m\u001b[37mDiffEqDiffTools v1.7.0\u001b[39m\n",
            " \u001b[90m [5a0ffddc] \u001b[39m\u001b[37mDiffEqFinancial v2.4.0\u001b[39m\n",
            " \u001b[90m [aae7a2af] \u001b[39m\u001b[37mDiffEqFlux v0.7.0\u001b[39m\n",
            " \u001b[90m [c894b116] \u001b[39m\u001b[37mDiffEqJump v6.4.0\u001b[39m\n",
            " \u001b[90m [77a26b50] \u001b[39m\u001b[37mDiffEqNoiseProcess v3.7.0\u001b[39m\n",
            " \u001b[90m [055956cb] \u001b[39m\u001b[37mDiffEqPhysics v3.6.0\u001b[39m\n",
            " \u001b[90m [41bf760c] \u001b[39m\u001b[37mDiffEqSensitivity v4.3.0\u001b[39m\n",
            " \u001b[90m [163ba53b] \u001b[39m\u001b[37mDiffResults v0.0.4\u001b[39m\n",
            " \u001b[90m [b552c78f] \u001b[39m\u001b[37mDiffRules v1.0.1\u001b[39m\n",
            " \u001b[90m [0c46a032] \u001b[39m\u001b[37mDifferentialEquations v6.6.0\u001b[39m\n",
            " \u001b[90m [c619ae07] \u001b[39m\u001b[37mDimensionalPlotRecipes v1.2.0\u001b[39m\n",
            " \u001b[90m [b4f34e82] \u001b[39m\u001b[37mDistances v0.8.2\u001b[39m\n",
            " \u001b[90m [31c24e10] \u001b[39m\u001b[37mDistributions v0.23.8\u001b[39m\n",
            " \u001b[90m [ffbed154] \u001b[39m\u001b[37mDocStringExtensions v0.8.3\u001b[39m\n",
            " \u001b[90m [d4d017d3] \u001b[39m\u001b[37mExponentialUtilities v1.6.0\u001b[39m\n",
            " \u001b[90m [e2ba6199] \u001b[39m\u001b[37mExprTools v0.1.1\u001b[39m\n",
            " \u001b[90m [c87230d0] \u001b[39m\u001b[37mFFMPEG v0.4.0\u001b[39m\n",
            " \u001b[90m [b22a6f82] \u001b[39m\u001b[37mFFMPEG_jll v4.3.1+2\u001b[39m\n",
            " \u001b[90m [1a297f60] \u001b[39m\u001b[37mFillArrays v0.8.14\u001b[39m\n",
            " \u001b[90m [6a86dc24] \u001b[39m\u001b[37mFiniteDiff v2.6.0\u001b[39m\n",
            " \u001b[90m [53c48c17] \u001b[39m\u001b[37mFixedPointNumbers v0.8.4\u001b[39m\n",
            " \u001b[90m [587475ba] \u001b[39m\u001b[37mFlux v0.8.3\u001b[39m\n",
            " \u001b[90m [1eca21be] \u001b[39m\u001b[37mFoldingTrees v1.0.1\u001b[39m\n",
            " \u001b[90m [f6369f11] \u001b[39m\u001b[37mForwardDiff v0.10.12\u001b[39m\n",
            " \u001b[90m [d7e528f0] \u001b[39m\u001b[37mFreeType2_jll v2.10.1+4\u001b[39m\n",
            " \u001b[90m [559328eb] \u001b[39m\u001b[37mFriBidi_jll v1.0.5+5\u001b[39m\n",
            " \u001b[90m [069b7b12] \u001b[39m\u001b[37mFunctionWrappers v1.1.1\u001b[39m\n",
            " \u001b[90m [de31a74c] \u001b[39m\u001b[37mFunctionalCollections v0.5.0\u001b[39m\n",
            " \u001b[90m [38e38edf] \u001b[39m\u001b[37mGLM v1.3.10\u001b[39m\n",
            " \u001b[90m [0c68f7d7] \u001b[39m\u001b[37mGPUArrays v3.4.1\u001b[39m\n",
            " \u001b[90m [61eb1bfa] \u001b[39m\u001b[37mGPUCompiler v0.2.0\u001b[39m\n",
            " \u001b[90m [28b8d3ca] \u001b[39m\u001b[37mGR v0.51.0\u001b[39m\n",
            " \u001b[90m [01680d73] \u001b[39m\u001b[37mGenericSVD v0.2.2\u001b[39m\n",
            " \u001b[90m [4d00f742] \u001b[39m\u001b[37mGeometryTypes v0.8.3\u001b[39m\n",
            " \u001b[90m [cd3eb016] \u001b[39m\u001b[37mHTTP v0.8.17\u001b[39m\n",
            " \u001b[90m [7073ff75] \u001b[39m\u001b[37mIJulia v1.21.3\u001b[39m\n",
            " \u001b[90m [7869d1d1] \u001b[39m\u001b[37mIRTools v0.4.0\u001b[39m\n",
            " \u001b[90m [d25df0c9] \u001b[39m\u001b[37mInflate v0.1.2\u001b[39m\n",
            " \u001b[90m [83e8ac13] \u001b[39m\u001b[37mIniFile v0.5.0\u001b[39m\n",
            " \u001b[90m [c601a237] \u001b[39m\u001b[37mInteract v0.10.3\u001b[39m\n",
            " \u001b[90m [d3863d7c] \u001b[39m\u001b[37mInteractBase v0.10.5\u001b[39m\n",
            " \u001b[90m [41ab1584] \u001b[39m\u001b[37mInvertedIndices v1.0.0\u001b[39m\n",
            " \u001b[90m [42fd0dbc] \u001b[39m\u001b[37mIterativeSolvers v0.8.4\u001b[39m\n",
            " \u001b[90m [82899510] \u001b[39m\u001b[37mIteratorInterfaceExtensions v1.0.0\u001b[39m\n",
            " \u001b[90m [97c1335a] \u001b[39m\u001b[37mJSExpr v0.5.2\u001b[39m\n",
            " \u001b[90m [682c06a0] \u001b[39m\u001b[37mJSON v0.21.0\u001b[39m\n",
            " \u001b[90m [e5e0dc1b] \u001b[39m\u001b[37mJuno v0.8.3\u001b[39m\n",
            " \u001b[90m [bcebb21b] \u001b[39m\u001b[37mKnockout v0.2.4\u001b[39m\n",
            " \u001b[90m [c1c5ebd0] \u001b[39m\u001b[37mLAME_jll v3.100.0+2\u001b[39m\n",
            " \u001b[90m [929cbde3] \u001b[39m\u001b[37mLLVM v1.7.0\u001b[39m\n",
            " \u001b[90m [b964fa9f] \u001b[39m\u001b[37mLaTeXStrings v1.1.0\u001b[39m\n",
            " \u001b[90m [dd192d2f] \u001b[39m\u001b[37mLibVPX_jll v1.9.0+0\u001b[39m\n",
            " \u001b[90m [093fc24a] \u001b[39m\u001b[37mLightGraphs v1.3.3\u001b[39m\n",
            " \u001b[90m [d3d80556] \u001b[39m\u001b[37mLineSearches v7.1.0\u001b[39m\n",
            " \u001b[90m [bdcacae8] \u001b[39m\u001b[37mLoopVectorization v0.8.25\u001b[39m\n",
            " \u001b[90m [1914dd2f] \u001b[39m\u001b[37mMacroTools v0.5.5\u001b[39m\n",
            " \u001b[90m [739be429] \u001b[39m\u001b[37mMbedTLS v1.0.2\u001b[39m\n",
            " \u001b[90m [c8ffd9c3] \u001b[39m\u001b[37mMbedTLS_jll v2.16.6+1\u001b[39m\n",
            " \u001b[90m [442fdcdd] \u001b[39m\u001b[37mMeasures v0.3.1\u001b[39m\n",
            " \u001b[90m [e89f7d12] \u001b[39m\u001b[37mMedia v0.5.0\u001b[39m\n",
            " \u001b[90m [e1d29d7a] \u001b[39m\u001b[37mMissings v0.4.4\u001b[39m\n",
            " \u001b[90m [46d2c3a1] \u001b[39m\u001b[37mMuladdMacro v0.2.2\u001b[39m\n",
            " \u001b[90m [f9640e96] \u001b[39m\u001b[37mMultiScaleArrays v1.6.0\u001b[39m\n",
            " \u001b[90m [d41bc354] \u001b[39m\u001b[37mNLSolversBase v7.5.0\u001b[39m\n",
            " \u001b[90m [2774e3e8] \u001b[39m\u001b[37mNLsolve v4.4.1\u001b[39m\n",
            " \u001b[90m [872c559c] \u001b[39m\u001b[37mNNlib v0.7.4\u001b[39m\n",
            " \u001b[90m [77ba4419] \u001b[39m\u001b[37mNaNMath v0.3.4\u001b[39m\n",
            " \u001b[90m [510215fc] \u001b[39m\u001b[37mObservables v0.3.1\u001b[39m\n",
            " \u001b[90m [6fe1bfb0] \u001b[39m\u001b[37mOffsetArrays v1.1.3\u001b[39m\n",
            " \u001b[90m [e7412a2a] \u001b[39m\u001b[37mOgg_jll v1.3.4+1\u001b[39m\n",
            " \u001b[90m [458c3c95] \u001b[39m\u001b[37mOpenSSL_jll v1.1.1+5\u001b[39m\n",
            " \u001b[90m [efe28fd5] \u001b[39m\u001b[37mOpenSpecFun_jll v0.5.3+3\u001b[39m\n",
            " \u001b[90m [429524aa] \u001b[39m\u001b[37mOptim v0.20.1\u001b[39m\n",
            " \u001b[90m [91d4177d] \u001b[39m\u001b[37mOpus_jll v1.3.1+2\u001b[39m\n",
            " \u001b[90m [bac558e1] \u001b[39m\u001b[37mOrderedCollections v1.3.0\u001b[39m\n",
            " \u001b[90m [1dea7af3] \u001b[39m\u001b[37mOrdinaryDiffEq v5.26.8\u001b[39m\n",
            " \u001b[90m [90014a1f] \u001b[39m\u001b[37mPDMats v0.10.0\u001b[39m\n",
            " \u001b[90m [d96e819e] \u001b[39m\u001b[37mParameters v0.12.1\u001b[39m\n",
            " \u001b[90m [69de0a69] \u001b[39m\u001b[37mParsers v1.0.10\u001b[39m\n",
            " \u001b[90m [fa939f87] \u001b[39m\u001b[37mPidfile v1.2.0\u001b[39m\n",
            " \u001b[90m [ccf2f8ad] \u001b[39m\u001b[37mPlotThemes v2.0.0\u001b[39m\n",
            " \u001b[90m [995b91a9] \u001b[39m\u001b[37mPlotUtils v1.0.6\u001b[39m\n",
            " \u001b[90m [91a5bcdd] \u001b[39m\u001b[37mPlots v0.27.1\u001b[39m\n",
            " \u001b[90m [e409e4f3] \u001b[39m\u001b[37mPoissonRandom v0.4.0\u001b[39m\n",
            " \u001b[90m [2dfb63ee] \u001b[39m\u001b[37mPooledArrays v0.5.3\u001b[39m\n",
            " \u001b[90m [85a6dd25] \u001b[39m\u001b[37mPositiveFactorizations v0.2.3\u001b[39m\n",
            " \u001b[90m [438e738f] \u001b[39m\u001b[37mPyCall v1.91.4\u001b[39m\n",
            " \u001b[90m [d330b81b] \u001b[39m\u001b[37mPyPlot v2.9.0\u001b[39m\n",
            " \u001b[90m [1fd47b50] \u001b[39m\u001b[37mQuadGK v2.4.1\u001b[39m\n",
            " \u001b[90m [e6cf234a] \u001b[39m\u001b[37mRandomNumbers v1.4.0\u001b[39m\n",
            " \u001b[90m [3cdcf5f2] \u001b[39m\u001b[37mRecipesBase v0.7.0\u001b[39m\n",
            " \u001b[90m [731186ca] \u001b[39m\u001b[37mRecursiveArrayTools v1.2.1\u001b[39m\n",
            " \u001b[90m [f2c3362d] \u001b[39m\u001b[37mRecursiveFactorization v0.1.4\u001b[39m\n",
            " \u001b[90m [189a3867] \u001b[39m\u001b[37mReexport v0.2.0\u001b[39m\n",
            " \u001b[90m [ae029012] \u001b[39m\u001b[37mRequires v0.5.2\u001b[39m\n",
            " \u001b[90m [ae5879a3] \u001b[39m\u001b[37mResettableStacks v1.0.0\u001b[39m\n",
            " \u001b[90m [79098fc4] \u001b[39m\u001b[37mRmath v0.6.1\u001b[39m\n",
            " \u001b[90m [f50d1b31] \u001b[39m\u001b[37mRmath_jll v0.2.2+1\u001b[39m\n",
            " \u001b[90m [f2b01f46] \u001b[39m\u001b[37mRoots v0.8.4\u001b[39m\n",
            " \u001b[90m [21efa798] \u001b[39m\u001b[37mSIMDPirates v0.8.24\u001b[39m\n",
            " \u001b[90m [476501e8] \u001b[39m\u001b[37mSLEEFPirates v0.5.5\u001b[39m\n",
            " \u001b[90m [1277b4bf] \u001b[39m\u001b[37mShiftedArrays v1.0.0\u001b[39m\n",
            " \u001b[90m [992d4aef] \u001b[39m\u001b[37mShowoff v0.3.1\u001b[39m\n",
            " \u001b[90m [699a6c99] \u001b[39m\u001b[37mSimpleTraits v0.9.3\u001b[39m\n",
            " \u001b[90m [b85f4697] \u001b[39m\u001b[37mSoftGlobalScope v1.1.0\u001b[39m\n",
            " \u001b[90m [a2af1166] \u001b[39m\u001b[37mSortingAlgorithms v0.3.1\u001b[39m\n",
            " \u001b[90m [47a9eef4] \u001b[39m\u001b[37mSparseDiffTools v1.10.0\u001b[39m\n",
            " \u001b[90m [276daf66] \u001b[39m\u001b[37mSpecialFunctions v0.10.3\u001b[39m\n",
            " \u001b[90m [90137ffa] \u001b[39m\u001b[37mStaticArrays v0.12.4\u001b[39m\n",
            " \u001b[90m [2913bbd2] \u001b[39m\u001b[37mStatsBase v0.32.2\u001b[39m\n",
            " \u001b[90m [4c63d2b9] \u001b[39m\u001b[37mStatsFuns v0.9.5\u001b[39m\n",
            " \u001b[90m [3eaba693] \u001b[39m\u001b[37mStatsModels v0.6.13\u001b[39m\n",
            " \u001b[90m [9672c7b4] \u001b[39m\u001b[37mSteadyStateDiffEq v1.5.1\u001b[39m\n",
            " \u001b[90m [789caeaf] \u001b[39m\u001b[37mStochasticDiffEq v6.16.1\u001b[39m\n",
            " \u001b[90m [c3572dad] \u001b[39m\u001b[37mSundials v3.8.3\u001b[39m\n",
            " \u001b[90m [3783bdb8] \u001b[39m\u001b[37mTableTraits v1.0.0\u001b[39m\n",
            " \u001b[90m [bd369af6] \u001b[39m\u001b[37mTables v1.0.5\u001b[39m\n",
            " \u001b[90m [a759f4b9] \u001b[39m\u001b[37mTimerOutputs v0.5.6\u001b[39m\n",
            " \u001b[90m [9f7883ad] \u001b[39m\u001b[37mTracker v0.2.11\u001b[39m\n",
            " \u001b[90m [3bb67fe8] \u001b[39m\u001b[37mTranscodingStreams v0.9.5\u001b[39m\n",
            " \u001b[90m [a2a6695c] \u001b[39m\u001b[37mTreeViews v0.3.0\u001b[39m\n",
            " \u001b[90m [3a884ed6] \u001b[39m\u001b[37mUnPack v1.0.2\u001b[39m\n",
            " \u001b[90m [3d5dd08c] \u001b[39m\u001b[37mVectorizationBase v0.12.32\u001b[39m\n",
            " \u001b[90m [81def892] \u001b[39m\u001b[37mVersionParsing v1.2.0\u001b[39m\n",
            " \u001b[90m [19fa3120] \u001b[39m\u001b[37mVertexSafeGraphs v0.1.2\u001b[39m\n",
            " \u001b[90m [0f1e0344] \u001b[39m\u001b[37mWebIO v0.8.14\u001b[39m\n",
            " \u001b[90m [104b5d7c] \u001b[39m\u001b[37mWebSockets v1.5.2\u001b[39m\n",
            " \u001b[90m [cc8bc4a8] \u001b[39m\u001b[37mWidgets v0.6.2\u001b[39m\n",
            " \u001b[90m [c2297ded] \u001b[39m\u001b[37mZMQ v1.2.1\u001b[39m\n",
            " \u001b[90m [8f1865be] \u001b[39m\u001b[37mZeroMQ_jll v4.3.2+4\u001b[39m\n",
            " \u001b[90m [a5390f91] \u001b[39m\u001b[37mZipFile v0.9.2\u001b[39m\n",
            " \u001b[90m [83775a58] \u001b[39m\u001b[37mZlib_jll v1.2.11+16\u001b[39m\n",
            " \u001b[90m [e88e6eb3] \u001b[39m\u001b[37mZygote v0.5.5\u001b[39m\n",
            " \u001b[90m [700de1a5] \u001b[39m\u001b[37mZygoteRules v0.2.0\u001b[39m\n",
            " \u001b[90m [0ac62f75] \u001b[39m\u001b[37mlibass_jll v0.14.0+3\u001b[39m\n",
            " \u001b[90m [f638f0a6] \u001b[39m\u001b[37mlibfdk_aac_jll v0.1.6+3\u001b[39m\n",
            " \u001b[90m [f27f6e37] \u001b[39m\u001b[37mlibvorbis_jll v1.3.6+5\u001b[39m\n",
            " \u001b[90m [1270edf5] \u001b[39m\u001b[37mx264_jll v2020.7.14+1\u001b[39m\n",
            " \u001b[90m [dfaa095f] \u001b[39m\u001b[37mx265_jll v3.0.0+2\u001b[39m\n",
            " \u001b[90m [2a0f44e3] \u001b[39m\u001b[37mBase64\u001b[39m\n",
            " \u001b[90m [ade2ca70] \u001b[39m\u001b[37mDates\u001b[39m\n",
            " \u001b[90m [8bb1440f] \u001b[39m\u001b[37mDelimitedFiles\u001b[39m\n",
            " \u001b[90m [8ba89e20] \u001b[39m\u001b[37mDistributed\u001b[39m\n",
            " \u001b[90m [7b1f6079] \u001b[39m\u001b[37mFileWatching\u001b[39m\n",
            " \u001b[90m [9fa8497b] \u001b[39m\u001b[37mFuture\u001b[39m\n",
            " \u001b[90m [b77e0a4c] \u001b[39m\u001b[37mInteractiveUtils\u001b[39m\n",
            " \u001b[90m [76f85450] \u001b[39m\u001b[37mLibGit2\u001b[39m\n",
            " \u001b[90m [8f399da3] \u001b[39m\u001b[37mLibdl\u001b[39m\n",
            " \u001b[90m [37e2e46d] \u001b[39m\u001b[37mLinearAlgebra\u001b[39m\n",
            " \u001b[90m [56ddb016] \u001b[39m\u001b[37mLogging\u001b[39m\n",
            " \u001b[90m [d6f4376e] \u001b[39m\u001b[37mMarkdown\u001b[39m\n",
            " \u001b[90m [a63ad114] \u001b[39m\u001b[37mMmap\u001b[39m\n",
            " \u001b[90m [44cfe95a] \u001b[39m\u001b[37mPkg\u001b[39m\n",
            " \u001b[90m [de0858da] \u001b[39m\u001b[37mPrintf\u001b[39m\n",
            " \u001b[90m [9abbd945] \u001b[39m\u001b[37mProfile\u001b[39m\n",
            " \u001b[90m [3fa0cd96] \u001b[39m\u001b[37mREPL\u001b[39m\n",
            " \u001b[90m [9a3f8284] \u001b[39m\u001b[37mRandom\u001b[39m\n",
            " \u001b[90m [ea8e919c] \u001b[39m\u001b[37mSHA\u001b[39m\n",
            " \u001b[90m [9e88b42a] \u001b[39m\u001b[37mSerialization\u001b[39m\n",
            " \u001b[90m [1a1011a3] \u001b[39m\u001b[37mSharedArrays\u001b[39m\n",
            " \u001b[90m [6462fe0b] \u001b[39m\u001b[37mSockets\u001b[39m\n",
            " \u001b[90m [2f01184e] \u001b[39m\u001b[37mSparseArrays\u001b[39m\n",
            " \u001b[90m [10745b16] \u001b[39m\u001b[37mStatistics\u001b[39m\n",
            " \u001b[90m [4607b0f0] \u001b[39m\u001b[37mSuiteSparse\u001b[39m\n",
            " \u001b[90m [8dfed614] \u001b[39m\u001b[37mTest\u001b[39m\n",
            " \u001b[90m [cf7118a7] \u001b[39m\u001b[37mUUIDs\u001b[39m\n",
            " \u001b[90m [4ec0a83e] \u001b[39m\u001b[37mUnicode\u001b[39m\n"
          ],
          "name": "stdout"
        }
      ]
    },
    {
      "cell_type": "code",
      "metadata": {
        "id": "hIPDn_y5tg41",
        "colab_type": "code",
        "colab": {
          "base_uri": "https://localhost:8080/",
          "height": 86
        },
        "outputId": "a2c94f14-354c-43e8-8e35-d90886558bce"
      },
      "source": [
        "which jupyter"
      ],
      "execution_count": 78,
      "outputs": [
        {
          "output_type": "display_data",
          "data": {
            "text/latex": "Unrecognized magic \\texttt{\\%which}.\n\nJulia does not use the IPython \\texttt{\\%magic} syntax.   To interact with the IJulia kernel, use \\texttt{IJulia.somefunction(...)}, for example.  Julia macros, string macros, and functions can be used to accomplish most of the other functionalities of IPython magics.\n\n",
            "text/markdown": "Unrecognized magic `%which`.\n\nJulia does not use the IPython `%magic` syntax.   To interact with the IJulia kernel, use `IJulia.somefunction(...)`, for example.  Julia macros, string macros, and functions can be used to accomplish most of the other functionalities of IPython magics.\n",
            "text/plain": [
              "  Unrecognized magic \u001b[36m%which\u001b[39m.\n",
              "\n",
              "  Julia does not use the IPython \u001b[36m%magic\u001b[39m syntax. To interact with the IJulia\n",
              "  kernel, use \u001b[36mIJulia.somefunction(...)\u001b[39m, for example. Julia macros, string\n",
              "  macros, and functions can be used to accomplish most of the other\n",
              "  functionalities of IPython magics."
            ]
          },
          "metadata": {
            "tags": []
          }
        }
      ]
    },
    {
      "cell_type": "code",
      "metadata": {
        "id": "iEEU6GhUtxSv",
        "colab_type": "code",
        "colab": {
          "base_uri": "https://localhost:8080/",
          "height": 34
        },
        "outputId": "d658b8e4-1656-4a31-da43-e9ace5aabc9e"
      },
      "source": [
        "Pkg.build(\"WebIO\") "
      ],
      "execution_count": 79,
      "outputs": [
        {
          "output_type": "stream",
          "text": [
            "\u001b[32m\u001b[1m   Building\u001b[22m\u001b[39m WebIO → `~/.julia/packages/WebIO/nTMDV/deps/build.log`\n"
          ],
          "name": "stderr"
        }
      ]
    },
    {
      "cell_type": "code",
      "metadata": {
        "id": "9o4XZnBJoFld",
        "colab_type": "code",
        "colab": {}
      },
      "source": [
        "versioninfo()"
      ],
      "execution_count": null,
      "outputs": []
    },
    {
      "cell_type": "code",
      "metadata": {
        "id": "LKP2JoaAdNVs",
        "colab_type": "code",
        "colab": {}
      },
      "source": [
        "import Pkg; Pkg.add(\"DifferentialEquations\")"
      ],
      "execution_count": null,
      "outputs": []
    },
    {
      "cell_type": "code",
      "metadata": {
        "id": "DQS69xpMay0p",
        "colab_type": "code",
        "colab": {}
      },
      "source": [
        "import Pkg; Pkg.add(\"DiffEqFlux\")\n"
      ],
      "execution_count": null,
      "outputs": []
    },
    {
      "cell_type": "code",
      "metadata": {
        "id": "hHDOHaj8tICB",
        "colab_type": "code",
        "colab": {
          "base_uri": "https://localhost:8080/",
          "height": 212
        },
        "outputId": "4397f2ed-af30-489f-a974-1d8bd1a104d8"
      },
      "source": [
        "import Pkg; Pkg.add(\"PyPlot\")"
      ],
      "execution_count": 82,
      "outputs": [
        {
          "output_type": "stream",
          "text": [
            "\u001b[32m\u001b[1m  Resolving\u001b[22m\u001b[39m package versions...\n",
            "\u001b[32m\u001b[1m  Installed\u001b[22m\u001b[39m LaTeXStrings ─ v1.1.0\n",
            "\u001b[32m\u001b[1m  Installed\u001b[22m\u001b[39m PyPlot ─────── v2.9.0\n",
            "\u001b[32m\u001b[1m  Installed\u001b[22m\u001b[39m PyCall ─────── v1.91.4\n",
            "\u001b[32m\u001b[1mUpdating\u001b[22m\u001b[39m `~/.julia/environments/v1.5/Project.toml`\n",
            " \u001b[90m [d330b81b] \u001b[39m\u001b[92m+ PyPlot v2.9.0\u001b[39m\n",
            "\u001b[32m\u001b[1mUpdating\u001b[22m\u001b[39m `~/.julia/environments/v1.5/Manifest.toml`\n",
            " \u001b[90m [b964fa9f] \u001b[39m\u001b[92m+ LaTeXStrings v1.1.0\u001b[39m\n",
            " \u001b[90m [438e738f] \u001b[39m\u001b[92m+ PyCall v1.91.4\u001b[39m\n",
            " \u001b[90m [d330b81b] \u001b[39m\u001b[92m+ PyPlot v2.9.0\u001b[39m\n",
            "\u001b[32m\u001b[1m   Building\u001b[22m\u001b[39m PyCall → `~/.julia/packages/PyCall/zqDXB/deps/build.log`\n"
          ],
          "name": "stderr"
        }
      ]
    },
    {
      "cell_type": "code",
      "metadata": {
        "id": "p2NJAlDKx4lx",
        "colab_type": "code",
        "colab": {
          "base_uri": "https://localhost:8080/",
          "height": 727
        },
        "outputId": "a3f10f0c-cfb5-4418-d54d-7f5d2d7b3a4a"
      },
      "source": [
        "]up Plots"
      ],
      "execution_count": 94,
      "outputs": [
        {
          "output_type": "stream",
          "text": [
            "\u001b[32m\u001b[1m   Updating\u001b[22m\u001b[39m registry at `~/.julia/registries/General`\n",
            "#=#=#                                                                          \r##O#- #                                                                        \r##O=#  #                                                                       \r#=#=-#  #                                                                      \r\r                                                                            0.8%\r#                                                                           2.3%\r###                                                                         4.6%\r#######                                                                    10.0%\r###############                                                            20.9%\r###############################                                            42.5%\r############################################################               83.5%\r######################################################################### 100.0%\n",
            "\u001b[32m\u001b[1m  Installed\u001b[22m\u001b[39m FixedPointNumbers ─ v0.6.1\n",
            "\u001b[32m\u001b[1m  Installed\u001b[22m\u001b[39m PlotThemes ──────── v1.0.3\n",
            "\u001b[32m\u001b[1m  Installed\u001b[22m\u001b[39m FFMPEG ──────────── v0.2.4\n",
            "\u001b[32m\u001b[1m  Installed\u001b[22m\u001b[39m IterTools ───────── v1.3.0\n",
            "\u001b[32m\u001b[1m  Installed\u001b[22m\u001b[39m Plots ───────────── v0.28.4\n",
            "\u001b[32m\u001b[1m  Installed\u001b[22m\u001b[39m PlotUtils ───────── v0.6.5\n",
            "\u001b[32m\u001b[1m  Installed\u001b[22m\u001b[39m GeometryTypes ───── v0.7.6\n",
            "\u001b[32m\u001b[1m  Installed\u001b[22m\u001b[39m GR ──────────────── v0.44.0\n",
            "\u001b[32m\u001b[1mUpdating\u001b[22m\u001b[39m `~/.julia/environments/v1.5/Project.toml`\n",
            " \u001b[90m [91a5bcdd] \u001b[39m\u001b[93m↑ Plots v0.27.1 ⇒ v0.28.4\u001b[39m\n",
            "\u001b[32m\u001b[1mUpdating\u001b[22m\u001b[39m `~/.julia/environments/v1.5/Manifest.toml`\n",
            " \u001b[90m [6e34b625] \u001b[39m\u001b[91m- Bzip2_jll v1.0.6+4\u001b[39m\n",
            " \u001b[90m [35d6a980] \u001b[39m\u001b[91m- ColorSchemes v3.9.0\u001b[39m\n",
            " \u001b[90m [b4f34e82] \u001b[39m\u001b[93m↑ Distances v0.8.2 ⇒ v0.9.0\u001b[39m\n",
            " \u001b[90m [c87230d0] \u001b[39m\u001b[95m↓ FFMPEG v0.4.0 ⇒ v0.2.4\u001b[39m\n",
            " \u001b[90m [b22a6f82] \u001b[39m\u001b[91m- FFMPEG_jll v4.3.1+2\u001b[39m\n",
            " \u001b[90m [53c48c17] \u001b[39m\u001b[95m↓ FixedPointNumbers v0.8.4 ⇒ v0.6.1\u001b[39m\n",
            " \u001b[90m [d7e528f0] \u001b[39m\u001b[91m- FreeType2_jll v2.10.1+4\u001b[39m\n",
            " \u001b[90m [559328eb] \u001b[39m\u001b[91m- FriBidi_jll v1.0.5+5\u001b[39m\n",
            " \u001b[90m [28b8d3ca] \u001b[39m\u001b[95m↓ GR v0.51.0 ⇒ v0.44.0\u001b[39m\n",
            " \u001b[90m [4d00f742] \u001b[39m\u001b[95m↓ GeometryTypes v0.8.3 ⇒ v0.7.6\u001b[39m\n",
            " \u001b[90m [c8e1da08] \u001b[39m\u001b[92m+ IterTools v1.3.0\u001b[39m\n",
            " \u001b[90m [c1c5ebd0] \u001b[39m\u001b[91m- LAME_jll v3.100.0+2\u001b[39m\n",
            " \u001b[90m [dd192d2f] \u001b[39m\u001b[91m- LibVPX_jll v1.9.0+0\u001b[39m\n",
            " \u001b[90m [e7412a2a] \u001b[39m\u001b[91m- Ogg_jll v1.3.4+1\u001b[39m\n",
            " \u001b[90m [458c3c95] \u001b[39m\u001b[91m- OpenSSL_jll v1.1.1+5\u001b[39m\n",
            " \u001b[90m [91d4177d] \u001b[39m\u001b[91m- Opus_jll v1.3.1+2\u001b[39m\n",
            " \u001b[90m [ccf2f8ad] \u001b[39m\u001b[95m↓ PlotThemes v2.0.0 ⇒ v1.0.3\u001b[39m\n",
            " \u001b[90m [995b91a9] \u001b[39m\u001b[95m↓ PlotUtils v1.0.6 ⇒ v0.6.5\u001b[39m\n",
            " \u001b[90m [91a5bcdd] \u001b[39m\u001b[93m↑ Plots v0.27.1 ⇒ v0.28.4\u001b[39m\n",
            " \u001b[90m [0ac62f75] \u001b[39m\u001b[91m- libass_jll v0.14.0+3\u001b[39m\n",
            " \u001b[90m [f638f0a6] \u001b[39m\u001b[91m- libfdk_aac_jll v0.1.6+3\u001b[39m\n",
            " \u001b[90m [f27f6e37] \u001b[39m\u001b[91m- libvorbis_jll v1.3.6+5\u001b[39m\n",
            " \u001b[90m [1270edf5] \u001b[39m\u001b[91m- x264_jll v2020.7.14+1\u001b[39m\n",
            " \u001b[90m [dfaa095f] \u001b[39m\u001b[91m- x265_jll v3.0.0+2\u001b[39m\n",
            "\u001b[32m\u001b[1m   Building\u001b[22m\u001b[39m GR ────→ `~/.julia/packages/GR/oiZD3/deps/build.log`\n",
            "\u001b[32m\u001b[1m   Building\u001b[22m\u001b[39m FFMPEG → `~/.julia/packages/FFMPEG/guN1x/deps/build.log`\n",
            "\u001b[32m\u001b[1m   Building\u001b[22m\u001b[39m Plots ─→ `~/.julia/packages/Plots/qZHsp/deps/build.log`\n"
          ],
          "name": "stderr"
        }
      ]
    },
    {
      "cell_type": "code",
      "metadata": {
        "id": "RW9JAmtOz5l2",
        "colab_type": "code",
        "colab": {
          "base_uri": "https://localhost:8080/",
          "height": 994
        },
        "outputId": "a8127346-bd9f-4efd-ca31-192c725df159"
      },
      "source": [
        "import Pkg; Pkg.add(\"JuliaDB\")"
      ],
      "execution_count": 101,
      "outputs": [
        {
          "output_type": "stream",
          "text": [
            "\u001b[32m\u001b[1m  Resolving\u001b[22m\u001b[39m package versions...\n",
            "\u001b[32m\u001b[1m  Installed\u001b[22m\u001b[39m Glob ───────────── v1.3.0\n",
            "\u001b[32m\u001b[1m  Installed\u001b[22m\u001b[39m Libiconv_jll ───── v1.16.0+6\n",
            "\u001b[32m\u001b[1m  Installed\u001b[22m\u001b[39m IndexedTables ──── v0.13.0\n",
            "\u001b[32m\u001b[1m  Installed\u001b[22m\u001b[39m JuliaDB ────────── v0.13.0\n",
            "\u001b[32m\u001b[1m  Installed\u001b[22m\u001b[39m Intervals ──────── v1.4.2\n",
            "\u001b[32m\u001b[1m  Installed\u001b[22m\u001b[39m Dagger ─────────── v0.9.1\n",
            "\u001b[32m\u001b[1m  Installed\u001b[22m\u001b[39m TextParse ──────── v0.9.1\n",
            "\u001b[32m\u001b[1m  Installed\u001b[22m\u001b[39m DataValues ─────── v0.4.13\n",
            "\u001b[32m\u001b[1m  Installed\u001b[22m\u001b[39m Nullables ──────── v1.0.0\n",
            "\u001b[32m\u001b[1m  Installed\u001b[22m\u001b[39m WeakRefStrings ─── v0.6.2\n",
            "\u001b[32m\u001b[1m  Installed\u001b[22m\u001b[39m XML2_jll ───────── v2.9.10+2\n",
            "\u001b[32m\u001b[1m  Installed\u001b[22m\u001b[39m OnlineStatsBase ── v1.4.3\n",
            "\u001b[32m\u001b[1m  Installed\u001b[22m\u001b[39m StructArrays ───── v0.4.4\n",
            "\u001b[32m\u001b[1m  Installed\u001b[22m\u001b[39m TableTraitsUtils ─ v1.0.1\n",
            "\u001b[32m\u001b[1m  Installed\u001b[22m\u001b[39m DoubleFloats ───── v1.1.13\n",
            "\u001b[32m\u001b[1m  Installed\u001b[22m\u001b[39m EzXML ──────────── v1.1.0\n",
            "\u001b[32m\u001b[1m  Installed\u001b[22m\u001b[39m GenericSchur ───── v0.4.0\n",
            "\u001b[32m\u001b[1m  Installed\u001b[22m\u001b[39m OnlineStats ────── v1.5.3\n",
            "\u001b[32m\u001b[1m  Installed\u001b[22m\u001b[39m Mocking ────────── v0.7.1\n",
            "\u001b[32m\u001b[1m  Installed\u001b[22m\u001b[39m MemPool ────────── v0.2.0\n",
            "\u001b[32m\u001b[1m  Installed\u001b[22m\u001b[39m Quadmath ───────── v0.5.2\n",
            "\u001b[32m\u001b[1m  Installed\u001b[22m\u001b[39m SweepOperator ──── v0.3.0\n",
            "\u001b[32m\u001b[1m  Installed\u001b[22m\u001b[39m Polynomials ────── v1.1.6\n",
            "\u001b[32m\u001b[1m  Installed\u001b[22m\u001b[39m TimeZones ──────── v1.3.2\n",
            "#=#=#                                                                          \r##O#- #                                                                        \r##O=#  #                                                                       \r#=#=-#  #                                                                      \r\r#                                                                           1.8%\r##                                                                          3.5%\r#######                                                                    10.6%\r##################                                                         24.9%\r####################################                                       49.7%\r#######################################################################    97.7%\r######################################################################### 100.0%\n",
            "#=#=#                                                                          \r##O#- #                                                                        \r##O=#  #                                                                       \r#=#=-#  #                                                                      \r\r                                                                            0.8%\r#                                                                           1.6%\r###                                                                         4.7%\r########                                                                   11.0%\r###############                                                            21.2%\r###############################                                            43.2%\r#############################################################              84.8%\r######################################################################### 100.0%\n",
            "\u001b[32m\u001b[1mUpdating\u001b[22m\u001b[39m `~/.julia/environments/v1.5/Project.toml`\n",
            " \u001b[90m [a93385a2] \u001b[39m\u001b[92m+ JuliaDB v0.13.0\u001b[39m\n",
            "\u001b[32m\u001b[1mUpdating\u001b[22m\u001b[39m `~/.julia/environments/v1.5/Manifest.toml`\n",
            " \u001b[90m [d58978e5] \u001b[39m\u001b[92m+ Dagger v0.9.1\u001b[39m\n",
            " \u001b[90m [e7dc6d0d] \u001b[39m\u001b[92m+ DataValues v0.4.13\u001b[39m\n",
            " \u001b[90m [497a8b3b] \u001b[39m\u001b[92m+ DoubleFloats v1.1.13\u001b[39m\n",
            " \u001b[90m [8f5d6c58] \u001b[39m\u001b[92m+ EzXML v1.1.0\u001b[39m\n",
            " \u001b[90m [c145ed77] \u001b[39m\u001b[92m+ GenericSchur v0.4.0\u001b[39m\n",
            " \u001b[90m [c27321d9] \u001b[39m\u001b[92m+ Glob v1.3.0\u001b[39m\n",
            " \u001b[90m [6deec6e2] \u001b[39m\u001b[92m+ IndexedTables v0.13.0\u001b[39m\n",
            " \u001b[90m [d8418881] \u001b[39m\u001b[92m+ Intervals v1.4.2\u001b[39m\n",
            " \u001b[90m [a93385a2] \u001b[39m\u001b[92m+ JuliaDB v0.13.0\u001b[39m\n",
            " \u001b[90m [94ce4f54] \u001b[39m\u001b[92m+ Libiconv_jll v1.16.0+6\u001b[39m\n",
            " \u001b[90m [f9f48841] \u001b[39m\u001b[92m+ MemPool v0.2.0\u001b[39m\n",
            " \u001b[90m [78c3b35d] \u001b[39m\u001b[92m+ Mocking v0.7.1\u001b[39m\n",
            " \u001b[90m [4d1e1d77] \u001b[39m\u001b[92m+ Nullables v1.0.0\u001b[39m\n",
            " \u001b[90m [a15396b6] \u001b[39m\u001b[92m+ OnlineStats v1.5.3\u001b[39m\n",
            " \u001b[90m [925886fa] \u001b[39m\u001b[92m+ OnlineStatsBase v1.4.3\u001b[39m\n",
            " \u001b[90m [f27b6e38] \u001b[39m\u001b[92m+ Polynomials v1.1.6\u001b[39m\n",
            " \u001b[90m [be4d8f0f] \u001b[39m\u001b[92m+ Quadmath v0.5.2\u001b[39m\n",
            " \u001b[90m [09ab397b] \u001b[39m\u001b[92m+ StructArrays v0.4.4\u001b[39m\n",
            " \u001b[90m [7522ee7d] \u001b[39m\u001b[92m+ SweepOperator v0.3.0\u001b[39m\n",
            " \u001b[90m [382cd787] \u001b[39m\u001b[92m+ TableTraitsUtils v1.0.1\u001b[39m\n",
            " \u001b[90m [e0df1984] \u001b[39m\u001b[92m+ TextParse v0.9.1\u001b[39m\n",
            " \u001b[90m [f269a46b] \u001b[39m\u001b[92m+ TimeZones v1.3.2\u001b[39m\n",
            " \u001b[90m [ea10d353] \u001b[39m\u001b[92m+ WeakRefStrings v0.6.2\u001b[39m\n",
            " \u001b[90m [02c8fc9c] \u001b[39m\u001b[92m+ XML2_jll v2.9.10+2\u001b[39m\n",
            "\u001b[32m\u001b[1m   Building\u001b[22m\u001b[39m TimeZones → `~/.julia/packages/TimeZones/v0mfN/deps/build.log`\n"
          ],
          "name": "stderr"
        }
      ]
    },
    {
      "cell_type": "code",
      "metadata": {
        "id": "5i0CwsNa0MkR",
        "colab_type": "code",
        "colab": {
          "base_uri": "https://localhost:8080/",
          "height": 434
        },
        "outputId": "232e167d-68fc-473f-8248-6039a08a4da2"
      },
      "source": [
        "using JuliaDB, StatsPlots\n",
        "\n",
        "t = table((x = randn(100), y = randn(100)))\n",
        "\n",
        "@df t scatter(:x, :y)"
      ],
      "execution_count": 104,
      "outputs": [
        {
          "output_type": "stream",
          "text": [
            "┌ Info: Precompiling StatsPlots [f3b207a7-027a-5e70-b257-86293d7955fd]\n",
            "└ @ Base loading.jl:1278\n",
            "┌ Warning: Module Plots with build ID 1539599311813 is missing from the cache.\n",
            "│ This may mean Plots [91a5bcdd-55d7-5caf-9e0b-520d859cae80] does not support precompilation but is imported by a module that does.\n",
            "└ @ Base loading.jl:1017\n",
            "┌ Info: Skipping precompilation since __precompile__(false). Importing StatsPlots [f3b207a7-027a-5e70-b257-86293d7955fd].\n",
            "└ @ Base loading.jl:1034\n",
            "┌ Info: Precompiling Clustering [aaaa29a8-35af-508c-8bc3-b662a17a0fe5]\n",
            "└ @ Base loading.jl:1278\n",
            "┌ Info: Precompiling Interpolations [a98d9a8b-a2ab-59e6-89dd-64a1c18fca59]\n",
            "└ @ Base loading.jl:1278\n",
            "┌ Info: Precompiling MultivariateStats [6f286f6a-111f-5878-ab1e-185364afe411]\n",
            "└ @ Base loading.jl:1278\n",
            "┌ Info: Precompiling KernelDensity [5ab0869b-81aa-558d-bb23-cbf5423bbe9b]\n",
            "└ @ Base loading.jl:1278\n",
            "WARNING: both JuliaDB and PyPlot export \"table\"; uses of it in module Main must be qualified\n"
          ],
          "name": "stderr"
        },
        {
          "output_type": "error",
          "ename": "LoadError",
          "evalue": "ignored",
          "traceback": [
            "UndefVarError: table not defined",
            "",
            "Stacktrace:",
            " [1] top-level scope at In[104]:3",
            " [2] include_string(::Function, ::Module, ::String, ::String) at ./loading.jl:1091"
          ]
        }
      ]
    },
    {
      "cell_type": "code",
      "metadata": {
        "id": "C5y495vJ0VKi",
        "colab_type": "code",
        "colab": {
          "base_uri": "https://localhost:8080/",
          "height": 781
        },
        "outputId": "b8d482af-4699-471f-dd00-67a5066c039f"
      },
      "source": [
        "import Pkg;Pkg.add(\"StatsPlots\")"
      ],
      "execution_count": 103,
      "outputs": [
        {
          "output_type": "stream",
          "text": [
            "\u001b[32m\u001b[1m  Resolving\u001b[22m\u001b[39m package versions...\n",
            "\u001b[32m\u001b[1m  Installed\u001b[22m\u001b[39m KernelDensity ───── v0.5.1\n",
            "\u001b[32m\u001b[1m  Installed\u001b[22m\u001b[39m Arpack_jll ──────── v3.5.0+3\n",
            "\u001b[32m\u001b[1m  Installed\u001b[22m\u001b[39m OpenBLAS_jll ────── v0.3.10+0\n",
            "\u001b[32m\u001b[1m  Installed\u001b[22m\u001b[39m AxisAlgorithms ──── v1.0.0\n",
            "\u001b[32m\u001b[1m  Installed\u001b[22m\u001b[39m TableOperations ─── v0.2.1\n",
            "\u001b[32m\u001b[1m  Installed\u001b[22m\u001b[39m Arpack ──────────── v0.4.0\n",
            "\u001b[32m\u001b[1m  Installed\u001b[22m\u001b[39m FFTW ────────────── v1.2.4\n",
            "\u001b[32m\u001b[1m  Installed\u001b[22m\u001b[39m StatsPlots ──────── v0.14.5\n",
            "\u001b[32m\u001b[1m  Installed\u001b[22m\u001b[39m IntelOpenMP_jll ─── v2018.0.3+0\n",
            "\u001b[32m\u001b[1m  Installed\u001b[22m\u001b[39m WoodburyMatrices ── v0.5.2\n",
            "\u001b[32m\u001b[1m  Installed\u001b[22m\u001b[39m Ratios ──────────── v0.4.0\n",
            "\u001b[32m\u001b[1m  Installed\u001b[22m\u001b[39m MKL_jll ─────────── v2020.2.254+0\n",
            "\u001b[32m\u001b[1m  Installed\u001b[22m\u001b[39m MultivariateStats ─ v0.7.0\n",
            "\u001b[32m\u001b[1m  Installed\u001b[22m\u001b[39m NearestNeighbors ── v0.4.6\n",
            "\u001b[32m\u001b[1m  Installed\u001b[22m\u001b[39m FFTW_jll ────────── v3.3.9+5\n",
            "\u001b[32m\u001b[1m  Installed\u001b[22m\u001b[39m Clustering ──────── v0.14.1\n",
            "\u001b[32m\u001b[1m  Installed\u001b[22m\u001b[39m Interpolations ──── v0.12.10\n",
            "#=#=#                                                                          \r##O#- #                                                                        \r##O=#  #                                                                       \r#=#=-#  #                                                                      \r\r#######                                                                    10.8%\r#######################                                                    32.7%\r###############################################                            65.6%\r######################################################################### 100.0%\n",
            "#=#=#                                                                          \r##O#- #                                                                        \r##O=#  #                                                                       \r#=#=-#  #                                                                      \r\r                                                                            0.2%\r                                                                            0.5%\r                                                                            1.3%\r#                                                                           2.4%\r###                                                                         4.9%\r#######                                                                    10.2%\r##############                                                             19.7%\r#####################                                                      29.8%\r#############################                                              40.6%\r#####################################                                      51.5%\r##############################################                             63.2%\r#######################################################                    75.4%\r################################################################           88.2%\r######################################################################### 100.0%\n",
            "#=#=#                                                                          \r##O#- #                                                                        \r##O=#  #                                                                       \r#=#=-#  #                                                                      \r\r#                                                                           2.3%\r####                                                                        6.8%\r##########                                                                 13.7%\r#####################                                                      29.7%\r#############################################                              61.8%\r######################################################################### 100.0%\n",
            "#=#=#                                                                          \r##O#- #                                                                        \r##O=#  #                                                                       \r#=#=-#  #                                                                      \r-#O#- #   #                                                                    \r-=#=#   #   #                                                                  \r\r                                                                            0.7%\r#                                                                           2.1%\r###                                                                         4.3%\r######                                                                      9.3%\r##############                                                             19.4%\r#############################                                              40.2%\r########################################################                   77.6%\r######################################################################### 100.0%\n",
            "\u001b[32m\u001b[1mUpdating\u001b[22m\u001b[39m `~/.julia/environments/v1.5/Project.toml`\n",
            " \u001b[90m [f3b207a7] \u001b[39m\u001b[92m+ StatsPlots v0.14.5\u001b[39m\n",
            "\u001b[32m\u001b[1mUpdating\u001b[22m\u001b[39m `~/.julia/environments/v1.5/Manifest.toml`\n",
            " \u001b[90m [7d9fca2a] \u001b[39m\u001b[92m+ Arpack v0.4.0\u001b[39m\n",
            " \u001b[90m [68821587] \u001b[39m\u001b[92m+ Arpack_jll v3.5.0+3\u001b[39m\n",
            " \u001b[90m [13072b0f] \u001b[39m\u001b[92m+ AxisAlgorithms v1.0.0\u001b[39m\n",
            " \u001b[90m [aaaa29a8] \u001b[39m\u001b[92m+ Clustering v0.14.1\u001b[39m\n",
            " \u001b[90m [7a1cc6ca] \u001b[39m\u001b[92m+ FFTW v1.2.4\u001b[39m\n",
            " \u001b[90m [f5851436] \u001b[39m\u001b[92m+ FFTW_jll v3.3.9+5\u001b[39m\n",
            " \u001b[90m [1d5cc7b8] \u001b[39m\u001b[92m+ IntelOpenMP_jll v2018.0.3+0\u001b[39m\n",
            " \u001b[90m [a98d9a8b] \u001b[39m\u001b[92m+ Interpolations v0.12.10\u001b[39m\n",
            " \u001b[90m [5ab0869b] \u001b[39m\u001b[92m+ KernelDensity v0.5.1\u001b[39m\n",
            " \u001b[90m [856f044c] \u001b[39m\u001b[92m+ MKL_jll v2020.2.254+0\u001b[39m\n",
            " \u001b[90m [6f286f6a] \u001b[39m\u001b[92m+ MultivariateStats v0.7.0\u001b[39m\n",
            " \u001b[90m [b8a86587] \u001b[39m\u001b[92m+ NearestNeighbors v0.4.6\u001b[39m\n",
            " \u001b[90m [4536629a] \u001b[39m\u001b[92m+ OpenBLAS_jll v0.3.10+0\u001b[39m\n",
            " \u001b[90m [c84ed2f1] \u001b[39m\u001b[92m+ Ratios v0.4.0\u001b[39m\n",
            " \u001b[90m [f3b207a7] \u001b[39m\u001b[92m+ StatsPlots v0.14.5\u001b[39m\n",
            " \u001b[90m [ab02a1b2] \u001b[39m\u001b[92m+ TableOperations v0.2.1\u001b[39m\n",
            " \u001b[90m [efce3f68] \u001b[39m\u001b[92m+ WoodburyMatrices v0.5.2\u001b[39m\n",
            "\u001b[32m\u001b[1m   Building\u001b[22m\u001b[39m FFTW → `~/.julia/packages/FFTW/DMUbN/deps/build.log`\n"
          ],
          "name": "stderr"
        }
      ]
    }
  ]
}