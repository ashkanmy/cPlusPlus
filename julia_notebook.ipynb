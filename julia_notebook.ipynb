{
  "nbformat": 4,
  "nbformat_minor": 0,
  "metadata": {
    "colab": {
      "name": "julia_notebook.ipynb",
      "provenance": [],
      "collapsed_sections": [],
      "include_colab_link": true
    },
    "kernelspec": {
      "name": "julia-1.5",
      "display_name": "Julia 1.5"
    },
    "accelerator": "GPU"
  },
  "cells": [
    {
      "cell_type": "markdown",
      "metadata": {
        "id": "view-in-github",
        "colab_type": "text"
      },
      "source": [
        "<a href=\"https://colab.research.google.com/github/ashkanmy/cPlusPlus/blob/master/julia_notebook.ipynb\" target=\"_parent\"><img src=\"https://colab.research.google.com/assets/colab-badge.svg\" alt=\"Open In Colab\"/></a>"
      ]
    },
    {
      "cell_type": "code",
      "metadata": {
        "id": "oMSuTc3pDlHv",
        "colab_type": "code",
        "colab": {}
      },
      "source": [
        "!wget https://developer.nvidia.com/compute/cuda/9.0/Prod/local_installers/cuda-repo-ubuntu1604-9-0-local_9.0.176-1_amd64-deb\n",
        "!dpkg -i cuda-repo-ubuntu1604-9-0-local_9.0.176-1_amd64-deb\n",
        "!apt-key add /var/cuda-repo-9-0-local/7fa2af80.pub\n",
        "!apt update -q\n",
        "!apt install cuda gcc-6 g++-6 -y -q\n",
        "!ln -s /usr/bin/gcc-6 /usr/local/cuda/bin/gcc\n",
        "!ln -s /usr/bin/g++-6 /usr/local/cuda/bin/g++\n",
        "\n",
        "!curl -sSL \"https://julialang-s3.julialang.org/bin/linux/x64/1.5/julia-1.5.1-linux-x86_64.tar.gz\" -o julia.tar.gz\n",
        "!tar -xzf julia.tar.gz -C /usr --strip-components 1\n",
        "!rm -rf julia.tar.gz*\n",
        "!julia -e 'using Pkg; pkg\"add IJulia; add CuArrays; add Flux; precompile\"'\n"
      ],
      "execution_count": null,
      "outputs": []
    },
    {
      "cell_type": "markdown",
      "metadata": {
        "id": "t3ExLePgf1B_",
        "colab_type": "text"
      },
      "source": [
        "# ***Here Save!***"
      ]
    },
    {
      "cell_type": "code",
      "metadata": {
        "id": "Ek8-yWcQafeM",
        "colab_type": "code",
        "colab": {}
      },
      "source": [
        "import Pkg"
      ],
      "execution_count": null,
      "outputs": []
    },
    {
      "cell_type": "code",
      "metadata": {
        "id": "4UIXbJSVgMEo",
        "colab_type": "code",
        "colab": {
          "base_uri": "https://localhost:8080/",
          "height": 87
        },
        "outputId": "2a826e97-7f19-4236-bb89-bde134c19b9c"
      },
      "source": [
        "Pkg.add(\"Flux\")"
      ],
      "execution_count": null,
      "outputs": [
        {
          "output_type": "stream",
          "text": [
            "\u001b[32m\u001b[1m   Updating\u001b[22m\u001b[39m registry at `~/.julia/registries/General`\n",
            "\u001b[32m\u001b[1m  Resolving\u001b[22m\u001b[39m package versions...\n",
            "\u001b[32m\u001b[1mNo Changes\u001b[22m\u001b[39m to `~/.julia/environments/v1.5/Project.toml`\n",
            "\u001b[32m\u001b[1mNo Changes\u001b[22m\u001b[39m to `~/.julia/environments/v1.5/Manifest.toml`\n"
          ],
          "name": "stderr"
        }
      ]
    },
    {
      "cell_type": "code",
      "metadata": {
        "id": "1hPzppiCgUxY",
        "colab_type": "code",
        "colab": {
          "base_uri": "https://localhost:8080/",
          "height": 1000
        },
        "outputId": "612d1bd6-abe4-4d5c-a8e8-bb4cb8782938"
      },
      "source": [
        "Pkg.add(\"DiffEqFlux\")"
      ],
      "execution_count": null,
      "outputs": [
        {
          "output_type": "stream",
          "text": [
            "\u001b[32m\u001b[1m  Resolving\u001b[22m\u001b[39m package versions...\n",
            "\u001b[32m\u001b[1m  Installed\u001b[22m\u001b[39m ZygoteRules ───────────────── v0.2.0\n",
            "\u001b[32m\u001b[1m  Installed\u001b[22m\u001b[39m DiffEqFlux ────────────────── v0.7.0\n",
            "\u001b[32m\u001b[1m  Installed\u001b[22m\u001b[39m CpuId ─────────────────────── v0.2.2\n",
            "\u001b[32m\u001b[1m  Installed\u001b[22m\u001b[39m UnPack ────────────────────── v1.0.2\n",
            "\u001b[32m\u001b[1m  Installed\u001b[22m\u001b[39m ArrayInterface ────────────── v2.12.0\n",
            "\u001b[32m\u001b[1m  Installed\u001b[22m\u001b[39m StatsFuns ─────────────────── v0.9.5\n",
            "\u001b[32m\u001b[1m  Installed\u001b[22m\u001b[39m StatsModels ───────────────── v0.6.14\n",
            "\u001b[32m\u001b[1m  Installed\u001b[22m\u001b[39m LightGraphs ───────────────── v1.3.3\n",
            "\u001b[32m\u001b[1m  Installed\u001b[22m\u001b[39m Calculus ──────────────────── v0.5.1\n",
            "\u001b[32m\u001b[1m  Installed\u001b[22m\u001b[39m TreeViews ─────────────────── v0.3.0\n",
            "\u001b[32m\u001b[1m  Installed\u001b[22m\u001b[39m ExponentialUtilities ──────── v1.6.0\n",
            "\u001b[32m\u001b[1m  Installed\u001b[22m\u001b[39m SparseDiffTools ───────────── v1.10.0\n",
            "\u001b[32m\u001b[1m  Installed\u001b[22m\u001b[39m SIMDPirates ───────────────── v0.8.24\n",
            "\u001b[32m\u001b[1m  Installed\u001b[22m\u001b[39m SLEEFPirates ──────────────── v0.5.5\n",
            "\u001b[32m\u001b[1m  Installed\u001b[22m\u001b[39m DiffEqBase ────────────────── v6.10.0\n",
            "\u001b[32m\u001b[1m  Installed\u001b[22m\u001b[39m RecursiveFactorization ────── v0.1.4\n",
            "\u001b[32m\u001b[1m  Installed\u001b[22m\u001b[39m ShiftedArrays ─────────────── v1.0.0\n",
            "\u001b[32m\u001b[1m  Installed\u001b[22m\u001b[39m DiffResults ───────────────── v0.0.4\n",
            "\u001b[32m\u001b[1m  Installed\u001b[22m\u001b[39m IteratorInterfaceExtensions ─ v1.0.0\n",
            "\u001b[32m\u001b[1m  Installed\u001b[22m\u001b[39m Rmath_jll ─────────────────── v0.2.2+1\n",
            "\u001b[32m\u001b[1m  Installed\u001b[22m\u001b[39m DiffEqSensitivity ─────────── v4.3.0\n",
            "\u001b[32m\u001b[1m  Installed\u001b[22m\u001b[39m Distributions ─────────────── v0.23.11\n",
            "\u001b[32m\u001b[1m  Installed\u001b[22m\u001b[39m Requires ──────────────────── v0.5.2\n",
            "\u001b[32m\u001b[1m  Installed\u001b[22m\u001b[39m DataFrames ────────────────── v0.21.7\n",
            "\u001b[32m\u001b[1m  Installed\u001b[22m\u001b[39m Rmath ─────────────────────── v0.6.1\n",
            "\u001b[32m\u001b[1m  Installed\u001b[22m\u001b[39m DocStringExtensions ───────── v0.8.3\n",
            "\u001b[32m\u001b[1m  Installed\u001b[22m\u001b[39m FillArrays ────────────────── v0.9.5\n",
            "\u001b[32m\u001b[1m  Installed\u001b[22m\u001b[39m PDMats ────────────────────── v0.10.0\n",
            "\u001b[32m\u001b[1m  Installed\u001b[22m\u001b[39m IterativeSolvers ──────────── v0.8.4\n",
            "\u001b[32m\u001b[1m  Installed\u001b[22m\u001b[39m LineSearches ──────────────── v7.1.0\n",
            "\u001b[32m\u001b[1m  Installed\u001b[22m\u001b[39m NLsolve ───────────────────── v4.4.1\n",
            "\u001b[32m\u001b[1m  Installed\u001b[22m\u001b[39m VertexSafeGraphs ──────────── v0.1.2\n",
            "\u001b[32m\u001b[1m  Installed\u001b[22m\u001b[39m Distances ─────────────────── v0.9.0\n",
            "\u001b[32m\u001b[1m  Installed\u001b[22m\u001b[39m NLSolversBase ─────────────── v7.5.0\n",
            "\u001b[32m\u001b[1m  Installed\u001b[22m\u001b[39m SimpleTraits ──────────────── v0.9.3\n",
            "\u001b[32m\u001b[1m  Installed\u001b[22m\u001b[39m InvertedIndices ───────────── v1.0.0\n",
            "\u001b[32m\u001b[1m  Installed\u001b[22m\u001b[39m NNlib ─────────────────────── v0.6.6\n",
            "\u001b[32m\u001b[1m  Installed\u001b[22m\u001b[39m RecursiveArrayTools ───────── v1.2.1\n",
            "\u001b[32m\u001b[1m  Installed\u001b[22m\u001b[39m FunctionWrappers ──────────── v1.1.1\n",
            "\u001b[32m\u001b[1m  Installed\u001b[22m\u001b[39m VectorizationBase ─────────── v0.12.32\n",
            "\u001b[32m\u001b[1m  Installed\u001b[22m\u001b[39m PooledArrays ──────────────── v0.5.3\n",
            "\u001b[32m\u001b[1m  Installed\u001b[22m\u001b[39m Tables ────────────────────── v1.0.5\n",
            "\u001b[32m\u001b[1m  Installed\u001b[22m\u001b[39m DataValueInterfaces ───────── v1.0.0\n",
            "\u001b[32m\u001b[1m  Installed\u001b[22m\u001b[39m GenericSVD ────────────────── v0.2.2\n",
            "\u001b[32m\u001b[1m  Installed\u001b[22m\u001b[39m RecipesBase ───────────────── v0.7.0\n",
            "\u001b[32m\u001b[1m  Installed\u001b[22m\u001b[39m DiffEqCallbacks ───────────── v2.10.0\n",
            "\u001b[32m\u001b[1m  Installed\u001b[22m\u001b[39m Parameters ────────────────── v0.12.1\n",
            "\u001b[32m\u001b[1m  Installed\u001b[22m\u001b[39m OrdinaryDiffEq ────────────── v5.26.8\n",
            "\u001b[32m\u001b[1m  Installed\u001b[22m\u001b[39m Inflate ───────────────────── v0.1.2\n",
            "\u001b[32m\u001b[1m  Installed\u001b[22m\u001b[39m ArnoldiMethod ─────────────── v0.0.4\n",
            "\u001b[32m\u001b[1m  Installed\u001b[22m\u001b[39m Compat ────────────────────── v2.2.1\n",
            "\u001b[32m\u001b[1m  Installed\u001b[22m\u001b[39m Roots ─────────────────────── v0.8.4\n",
            "\u001b[32m\u001b[1m  Installed\u001b[22m\u001b[39m TableTraits ───────────────── v1.0.0\n",
            "\u001b[32m\u001b[1m  Installed\u001b[22m\u001b[39m LoopVectorization ─────────── v0.8.25\n",
            "\u001b[32m\u001b[1m  Installed\u001b[22m\u001b[39m DiffEqDiffTools ───────────── v1.7.0\n",
            "\u001b[32m\u001b[1m  Installed\u001b[22m\u001b[39m MuladdMacro ───────────────── v0.2.2\n",
            "\u001b[32m\u001b[1m  Installed\u001b[22m\u001b[39m FiniteDiff ────────────────── v2.6.0\n",
            "\u001b[32m\u001b[1m  Installed\u001b[22m\u001b[39m OffsetArrays ──────────────── v1.1.3\n",
            "\u001b[32m\u001b[1m  Installed\u001b[22m\u001b[39m QuadGK ────────────────────── v2.4.1\n",
            "\u001b[32m\u001b[1m  Installed\u001b[22m\u001b[39m StructTypes ───────────────── v1.1.0\n",
            "\u001b[32m\u001b[1m  Installed\u001b[22m\u001b[39m GLM ───────────────────────── v1.3.10\n",
            "\u001b[32m\u001b[1m  Installed\u001b[22m\u001b[39m CategoricalArrays ─────────── v0.8.2\n",
            "######################################################################### 100.0%\n",
            "\u001b[32m\u001b[1mUpdating\u001b[22m\u001b[39m `~/.julia/environments/v1.5/Project.toml`\n",
            " \u001b[90m [aae7a2af] \u001b[39m\u001b[92m+ DiffEqFlux v0.7.0\u001b[39m\n",
            "\u001b[32m\u001b[1mUpdating\u001b[22m\u001b[39m `~/.julia/environments/v1.5/Manifest.toml`\n",
            " \u001b[90m [ec485272] \u001b[39m\u001b[92m+ ArnoldiMethod v0.0.4\u001b[39m\n",
            " \u001b[90m [4fba245c] \u001b[39m\u001b[92m+ ArrayInterface v2.12.0\u001b[39m\n",
            " \u001b[90m [49dc2e85] \u001b[39m\u001b[92m+ Calculus v0.5.1\u001b[39m\n",
            " \u001b[90m [324d7699] \u001b[39m\u001b[92m+ CategoricalArrays v0.8.2\u001b[39m\n",
            " \u001b[90m [34da2185] \u001b[39m\u001b[92m+ Compat v2.2.1\u001b[39m\n",
            " \u001b[90m [adafc99b] \u001b[39m\u001b[92m+ CpuId v0.2.2\u001b[39m\n",
            " \u001b[90m [a93c6f00] \u001b[39m\u001b[92m+ DataFrames v0.21.7\u001b[39m\n",
            " \u001b[90m [e2d170a0] \u001b[39m\u001b[92m+ DataValueInterfaces v1.0.0\u001b[39m\n",
            " \u001b[90m [2b5f629d] \u001b[39m\u001b[92m+ DiffEqBase v6.10.0\u001b[39m\n",
            " \u001b[90m [459566f4] \u001b[39m\u001b[92m+ DiffEqCallbacks v2.10.0\u001b[39m\n",
            " \u001b[90m [01453d9d] \u001b[39m\u001b[92m+ DiffEqDiffTools v1.7.0\u001b[39m\n",
            " \u001b[90m [aae7a2af] \u001b[39m\u001b[92m+ DiffEqFlux v0.7.0\u001b[39m\n",
            " \u001b[90m [41bf760c] \u001b[39m\u001b[92m+ DiffEqSensitivity v4.3.0\u001b[39m\n",
            " \u001b[90m [163ba53b] \u001b[39m\u001b[95m↓ DiffResults v1.0.2 ⇒ v0.0.4\u001b[39m\n",
            " \u001b[90m [b4f34e82] \u001b[39m\u001b[92m+ Distances v0.9.0\u001b[39m\n",
            " \u001b[90m [31c24e10] \u001b[39m\u001b[92m+ Distributions v0.23.11\u001b[39m\n",
            " \u001b[90m [ffbed154] \u001b[39m\u001b[92m+ DocStringExtensions v0.8.3\u001b[39m\n",
            " \u001b[90m [d4d017d3] \u001b[39m\u001b[92m+ ExponentialUtilities v1.6.0\u001b[39m\n",
            " \u001b[90m [1a297f60] \u001b[39m\u001b[92m+ FillArrays v0.9.5\u001b[39m\n",
            " \u001b[90m [6a86dc24] \u001b[39m\u001b[92m+ FiniteDiff v2.6.0\u001b[39m\n",
            " \u001b[90m [069b7b12] \u001b[39m\u001b[92m+ FunctionWrappers v1.1.1\u001b[39m\n",
            " \u001b[90m [38e38edf] \u001b[39m\u001b[92m+ GLM v1.3.10\u001b[39m\n",
            " \u001b[90m [01680d73] \u001b[39m\u001b[92m+ GenericSVD v0.2.2\u001b[39m\n",
            " \u001b[90m [d25df0c9] \u001b[39m\u001b[92m+ Inflate v0.1.2\u001b[39m\n",
            " \u001b[90m [41ab1584] \u001b[39m\u001b[92m+ InvertedIndices v1.0.0\u001b[39m\n",
            " \u001b[90m [42fd0dbc] \u001b[39m\u001b[92m+ IterativeSolvers v0.8.4\u001b[39m\n",
            " \u001b[90m [82899510] \u001b[39m\u001b[92m+ IteratorInterfaceExtensions v1.0.0\u001b[39m\n",
            " \u001b[90m [093fc24a] \u001b[39m\u001b[92m+ LightGraphs v1.3.3\u001b[39m\n",
            " \u001b[90m [d3d80556] \u001b[39m\u001b[92m+ LineSearches v7.1.0\u001b[39m\n",
            " \u001b[90m [bdcacae8] \u001b[39m\u001b[92m+ LoopVectorization v0.8.25\u001b[39m\n",
            " \u001b[90m [46d2c3a1] \u001b[39m\u001b[92m+ MuladdMacro v0.2.2\u001b[39m\n",
            " \u001b[90m [d41bc354] \u001b[39m\u001b[92m+ NLSolversBase v7.5.0\u001b[39m\n",
            " \u001b[90m [2774e3e8] \u001b[39m\u001b[92m+ NLsolve v4.4.1\u001b[39m\n",
            " \u001b[90m [872c559c] \u001b[39m\u001b[95m↓ NNlib v0.7.4 ⇒ v0.6.6\u001b[39m\n",
            " \u001b[90m [6fe1bfb0] \u001b[39m\u001b[92m+ OffsetArrays v1.1.3\u001b[39m\n",
            " \u001b[90m [1dea7af3] \u001b[39m\u001b[92m+ OrdinaryDiffEq v5.26.8\u001b[39m\n",
            " \u001b[90m [90014a1f] \u001b[39m\u001b[92m+ PDMats v0.10.0\u001b[39m\n",
            " \u001b[90m [d96e819e] \u001b[39m\u001b[92m+ Parameters v0.12.1\u001b[39m\n",
            " \u001b[90m [2dfb63ee] \u001b[39m\u001b[92m+ PooledArrays v0.5.3\u001b[39m\n",
            " \u001b[90m [1fd47b50] \u001b[39m\u001b[92m+ QuadGK v2.4.1\u001b[39m\n",
            " \u001b[90m [3cdcf5f2] \u001b[39m\u001b[92m+ RecipesBase v0.7.0\u001b[39m\n",
            " \u001b[90m [731186ca] \u001b[39m\u001b[92m+ RecursiveArrayTools v1.2.1\u001b[39m\n",
            " \u001b[90m [f2c3362d] \u001b[39m\u001b[92m+ RecursiveFactorization v0.1.4\u001b[39m\n",
            " \u001b[90m [ae029012] \u001b[39m\u001b[95m↓ Requires v1.0.2 ⇒ v0.5.2\u001b[39m\n",
            " \u001b[90m [79098fc4] \u001b[39m\u001b[92m+ Rmath v0.6.1\u001b[39m\n",
            " \u001b[90m [f50d1b31] \u001b[39m\u001b[92m+ Rmath_jll v0.2.2+1\u001b[39m\n",
            " \u001b[90m [f2b01f46] \u001b[39m\u001b[92m+ Roots v0.8.4\u001b[39m\n",
            " \u001b[90m [21efa798] \u001b[39m\u001b[92m+ SIMDPirates v0.8.24\u001b[39m\n",
            " \u001b[90m [476501e8] \u001b[39m\u001b[92m+ SLEEFPirates v0.5.5\u001b[39m\n",
            " \u001b[90m [1277b4bf] \u001b[39m\u001b[92m+ ShiftedArrays v1.0.0\u001b[39m\n",
            " \u001b[90m [699a6c99] \u001b[39m\u001b[92m+ SimpleTraits v0.9.3\u001b[39m\n",
            " \u001b[90m [47a9eef4] \u001b[39m\u001b[92m+ SparseDiffTools v1.10.0\u001b[39m\n",
            " \u001b[90m [4c63d2b9] \u001b[39m\u001b[92m+ StatsFuns v0.9.5\u001b[39m\n",
            " \u001b[90m [3eaba693] \u001b[39m\u001b[92m+ StatsModels v0.6.14\u001b[39m\n",
            " \u001b[90m [856f2bd8] \u001b[39m\u001b[92m+ StructTypes v1.1.0\u001b[39m\n",
            " \u001b[90m [3783bdb8] \u001b[39m\u001b[92m+ TableTraits v1.0.0\u001b[39m\n",
            " \u001b[90m [bd369af6] \u001b[39m\u001b[92m+ Tables v1.0.5\u001b[39m\n",
            " \u001b[90m [a2a6695c] \u001b[39m\u001b[92m+ TreeViews v0.3.0\u001b[39m\n",
            " \u001b[90m [3a884ed6] \u001b[39m\u001b[92m+ UnPack v1.0.2\u001b[39m\n",
            " \u001b[90m [3d5dd08c] \u001b[39m\u001b[92m+ VectorizationBase v0.12.32\u001b[39m\n",
            " \u001b[90m [19fa3120] \u001b[39m\u001b[92m+ VertexSafeGraphs v0.1.2\u001b[39m\n",
            " \u001b[90m [700de1a5] \u001b[39m\u001b[92m+ ZygoteRules v0.2.0\u001b[39m\n",
            " \u001b[90m [9fa8497b] \u001b[39m\u001b[92m+ Future\u001b[39m\n",
            " \u001b[90m [1a1011a3] \u001b[39m\u001b[92m+ SharedArrays\u001b[39m\n",
            " \u001b[90m [4607b0f0] \u001b[39m\u001b[92m+ SuiteSparse\u001b[39m\n",
            "\u001b[32m\u001b[1m   Building\u001b[22m\u001b[39m SLEEFPirates → `~/.julia/packages/SLEEFPirates/jGsib/deps/build.log`\n",
            "\u001b[32m\u001b[1m   Building\u001b[22m\u001b[39m NNlib ───────→ `~/.julia/packages/NNlib/FAI3o/deps/build.log`\n"
          ],
          "name": "stderr"
        }
      ]
    },
    {
      "cell_type": "code",
      "metadata": {
        "id": "Us0D4KAbgfcJ",
        "colab_type": "code",
        "colab": {
          "base_uri": "https://localhost:8080/",
          "height": 781
        },
        "outputId": "b4872ad6-71df-4179-af35-586dec800f02"
      },
      "source": [
        "Pkg.add(\"DifferentialEquations\")"
      ],
      "execution_count": null,
      "outputs": [
        {
          "output_type": "stream",
          "text": [
            "\u001b[32m\u001b[1m  Resolving\u001b[22m\u001b[39m package versions...\n",
            "\u001b[32m\u001b[1m  Installed\u001b[22m\u001b[39m BoundaryValueDiffEq ──── v2.3.0\n",
            "\u001b[32m\u001b[1m  Installed\u001b[22m\u001b[39m PoissonRandom ────────── v0.4.0\n",
            "\u001b[32m\u001b[1m  Installed\u001b[22m\u001b[39m SteadyStateDiffEq ────── v1.5.1\n",
            "\u001b[32m\u001b[1m  Installed\u001b[22m\u001b[39m MultiScaleArrays ─────── v1.5.0\n",
            "\u001b[32m\u001b[1m  Installed\u001b[22m\u001b[39m DelayDiffEq ──────────── v5.19.0\n",
            "\u001b[32m\u001b[1m  Installed\u001b[22m\u001b[39m StochasticDiffEq ─────── v6.4.0\n",
            "\u001b[32m\u001b[1m  Installed\u001b[22m\u001b[39m DiffEqOperators ──────── v4.1.0\n",
            "\u001b[32m\u001b[1m  Installed\u001b[22m\u001b[39m DimensionalPlotRecipes ─ v1.2.0\n",
            "\u001b[32m\u001b[1m  Installed\u001b[22m\u001b[39m ResettableStacks ─────── v1.0.0\n",
            "\u001b[32m\u001b[1m  Installed\u001b[22m\u001b[39m DifferentialEquations ── v6.6.0\n",
            "\u001b[32m\u001b[1m  Installed\u001b[22m\u001b[39m DiffEqFinancial ──────── v2.4.0\n",
            "\u001b[32m\u001b[1m  Installed\u001b[22m\u001b[39m DiffEqNoiseProcess ───── v3.7.0\n",
            "\u001b[32m\u001b[1m  Installed\u001b[22m\u001b[39m DiffEqPhysics ────────── v3.6.0\n",
            "\u001b[32m\u001b[1m  Installed\u001b[22m\u001b[39m BandedMatrices ───────── v0.9.1\n",
            "\u001b[32m\u001b[1m  Installed\u001b[22m\u001b[39m MatrixFactorizations ─── v0.0.4\n",
            "\u001b[32m\u001b[1m  Installed\u001b[22m\u001b[39m LazyArrays ───────────── v0.8.1\n",
            "\u001b[32m\u001b[1m  Installed\u001b[22m\u001b[39m DiffEqJump ───────────── v6.4.0\n",
            "\u001b[32m\u001b[1m  Installed\u001b[22m\u001b[39m RandomNumbers ────────── v1.4.0\n",
            "\u001b[32m\u001b[1m  Installed\u001b[22m\u001b[39m Sundials ─────────────── v3.8.3\n",
            "\u001b[32m\u001b[1mUpdating\u001b[22m\u001b[39m `~/.julia/environments/v1.5/Project.toml`\n",
            " \u001b[90m [0c46a032] \u001b[39m\u001b[92m+ DifferentialEquations v6.6.0\u001b[39m\n",
            "\u001b[32m\u001b[1mUpdating\u001b[22m\u001b[39m `~/.julia/environments/v1.5/Manifest.toml`\n",
            " \u001b[90m [aae01518] \u001b[39m\u001b[92m+ BandedMatrices v0.9.1\u001b[39m\n",
            " \u001b[90m [764a87c0] \u001b[39m\u001b[92m+ BoundaryValueDiffEq v2.3.0\u001b[39m\n",
            " \u001b[90m [bcd4f6db] \u001b[39m\u001b[92m+ DelayDiffEq v5.19.0\u001b[39m\n",
            " \u001b[90m [5a0ffddc] \u001b[39m\u001b[92m+ DiffEqFinancial v2.4.0\u001b[39m\n",
            " \u001b[90m [c894b116] \u001b[39m\u001b[92m+ DiffEqJump v6.4.0\u001b[39m\n",
            " \u001b[90m [77a26b50] \u001b[39m\u001b[92m+ DiffEqNoiseProcess v3.7.0\u001b[39m\n",
            " \u001b[90m [9fdde737] \u001b[39m\u001b[92m+ DiffEqOperators v4.1.0\u001b[39m\n",
            " \u001b[90m [055956cb] \u001b[39m\u001b[92m+ DiffEqPhysics v3.6.0\u001b[39m\n",
            " \u001b[90m [0c46a032] \u001b[39m\u001b[92m+ DifferentialEquations v6.6.0\u001b[39m\n",
            " \u001b[90m [c619ae07] \u001b[39m\u001b[92m+ DimensionalPlotRecipes v1.2.0\u001b[39m\n",
            " \u001b[90m [5078a376] \u001b[39m\u001b[92m+ LazyArrays v0.8.1\u001b[39m\n",
            " \u001b[90m [a3b82374] \u001b[39m\u001b[92m+ MatrixFactorizations v0.0.4\u001b[39m\n",
            " \u001b[90m [f9640e96] \u001b[39m\u001b[92m+ MultiScaleArrays v1.5.0\u001b[39m\n",
            " \u001b[90m [e409e4f3] \u001b[39m\u001b[92m+ PoissonRandom v0.4.0\u001b[39m\n",
            " \u001b[90m [e6cf234a] \u001b[39m\u001b[92m+ RandomNumbers v1.4.0\u001b[39m\n",
            " \u001b[90m [ae5879a3] \u001b[39m\u001b[92m+ ResettableStacks v1.0.0\u001b[39m\n",
            " \u001b[90m [9672c7b4] \u001b[39m\u001b[92m+ SteadyStateDiffEq v1.5.1\u001b[39m\n",
            " \u001b[90m [789caeaf] \u001b[39m\u001b[92m+ StochasticDiffEq v6.4.0\u001b[39m\n",
            " \u001b[90m [c3572dad] \u001b[39m\u001b[92m+ Sundials v3.8.3\u001b[39m\n",
            "\u001b[32m\u001b[1m   Building\u001b[22m\u001b[39m Sundials → `~/.julia/packages/Sundials/SKP8f/deps/build.log`\n"
          ],
          "name": "stderr"
        }
      ]
    },
    {
      "cell_type": "code",
      "metadata": {
        "id": "b-6t8e1dgnZd",
        "colab_type": "code",
        "colab": {
          "base_uri": "https://localhost:8080/",
          "height": 514
        },
        "outputId": "abec8805-0b3c-46f9-c6d4-aa92bd803cab"
      },
      "source": [
        "Pkg.add(\"Optim\")"
      ],
      "execution_count": null,
      "outputs": [
        {
          "output_type": "stream",
          "text": [
            "\u001b[32m\u001b[1m  Resolving\u001b[22m\u001b[39m package versions...\n",
            "\u001b[32m\u001b[1m  Installed\u001b[22m\u001b[39m BoundaryValueDiffEq ──── v2.5.0\n",
            "\u001b[32m\u001b[1m  Installed\u001b[22m\u001b[39m MultiScaleArrays ─────── v1.6.0\n",
            "\u001b[32m\u001b[1m  Installed\u001b[22m\u001b[39m FillArrays ───────────── v0.8.14\n",
            "\u001b[32m\u001b[1m  Installed\u001b[22m\u001b[39m ArrayLayouts ─────────── v0.3.8\n",
            "\u001b[32m\u001b[1m  Installed\u001b[22m\u001b[39m BandedMatrices ───────── v0.15.15\n",
            "\u001b[32m\u001b[1m  Installed\u001b[22m\u001b[39m Optim ────────────────── v0.20.1\n",
            "\u001b[32m\u001b[1m  Installed\u001b[22m\u001b[39m StochasticDiffEq ─────── v6.16.1\n",
            "\u001b[32m\u001b[1m  Installed\u001b[22m\u001b[39m Distributions ────────── v0.23.8\n",
            "\u001b[32m\u001b[1m  Installed\u001b[22m\u001b[39m PositiveFactorizations ─ v0.2.3\n",
            "\u001b[32m\u001b[1m  Installed\u001b[22m\u001b[39m StatsBase ────────────── v0.32.2\n",
            "\u001b[32m\u001b[1mUpdating\u001b[22m\u001b[39m `~/.julia/environments/v1.5/Project.toml`\n",
            " \u001b[90m [429524aa] \u001b[39m\u001b[92m+ Optim v0.20.1\u001b[39m\n",
            "\u001b[32m\u001b[1mUpdating\u001b[22m\u001b[39m `~/.julia/environments/v1.5/Manifest.toml`\n",
            " \u001b[90m [4c555306] \u001b[39m\u001b[92m+ ArrayLayouts v0.3.8\u001b[39m\n",
            " \u001b[90m [aae01518] \u001b[39m\u001b[93m↑ BandedMatrices v0.9.1 ⇒ v0.15.15\u001b[39m\n",
            " \u001b[90m [764a87c0] \u001b[39m\u001b[93m↑ BoundaryValueDiffEq v2.3.0 ⇒ v2.5.0\u001b[39m\n",
            " \u001b[90m [9fdde737] \u001b[39m\u001b[91m- DiffEqOperators v4.1.0\u001b[39m\n",
            " \u001b[90m [31c24e10] \u001b[39m\u001b[95m↓ Distributions v0.23.11 ⇒ v0.23.8\u001b[39m\n",
            " \u001b[90m [1a297f60] \u001b[39m\u001b[95m↓ FillArrays v0.9.5 ⇒ v0.8.14\u001b[39m\n",
            " \u001b[90m [5078a376] \u001b[39m\u001b[91m- LazyArrays v0.8.1\u001b[39m\n",
            " \u001b[90m [a3b82374] \u001b[39m\u001b[91m- MatrixFactorizations v0.0.4\u001b[39m\n",
            " \u001b[90m [f9640e96] \u001b[39m\u001b[93m↑ MultiScaleArrays v1.5.0 ⇒ v1.6.0\u001b[39m\n",
            " \u001b[90m [872c559c] \u001b[39m\u001b[93m↑ NNlib v0.6.6 ⇒ v0.7.4\u001b[39m\n",
            " \u001b[90m [429524aa] \u001b[39m\u001b[92m+ Optim v0.20.1\u001b[39m\n",
            " \u001b[90m [85a6dd25] \u001b[39m\u001b[92m+ PositiveFactorizations v0.2.3\u001b[39m\n",
            " \u001b[90m [2913bbd2] \u001b[39m\u001b[95m↓ StatsBase v0.33.1 ⇒ v0.32.2\u001b[39m\n",
            " \u001b[90m [789caeaf] \u001b[39m\u001b[93m↑ StochasticDiffEq v6.4.0 ⇒ v6.16.1\u001b[39m\n"
          ],
          "name": "stderr"
        }
      ]
    },
    {
      "cell_type": "code",
      "metadata": {
        "id": "SaLA1P5lgrtm",
        "colab_type": "code",
        "colab": {
          "base_uri": "https://localhost:8080/",
          "height": 1000
        },
        "outputId": "dbda1cf0-ba72-4bfd-8fc3-511748fe74ba"
      },
      "source": [
        "Pkg.add(\"Plots\")"
      ],
      "execution_count": null,
      "outputs": [
        {
          "output_type": "stream",
          "text": [
            "\u001b[32m\u001b[1m  Resolving\u001b[22m\u001b[39m package versions...\n",
            "\u001b[32m\u001b[1m  Installed\u001b[22m\u001b[39m x264_jll ─────── v2020.7.14+1\n",
            "\u001b[32m\u001b[1m  Installed\u001b[22m\u001b[39m FreeType2_jll ── v2.10.1+4\n",
            "\u001b[32m\u001b[1m  Installed\u001b[22m\u001b[39m libfdk_aac_jll ─ v0.1.6+3\n",
            "\u001b[32m\u001b[1m  Installed\u001b[22m\u001b[39m FFMPEG_jll ───── v4.3.1+2\n",
            "\u001b[32m\u001b[1m  Installed\u001b[22m\u001b[39m Showoff ──────── v0.3.1\n",
            "\u001b[32m\u001b[1m  Installed\u001b[22m\u001b[39m FriBidi_jll ──── v1.0.5+5\n",
            "\u001b[32m\u001b[1m  Installed\u001b[22m\u001b[39m Measures ─────── v0.3.1\n",
            "\u001b[32m\u001b[1m  Installed\u001b[22m\u001b[39m Plots ────────── v0.27.1\n",
            "\u001b[32m\u001b[1m  Installed\u001b[22m\u001b[39m libass_jll ───── v0.14.0+3\n",
            "\u001b[32m\u001b[1m  Installed\u001b[22m\u001b[39m Opus_jll ─────── v1.3.1+2\n",
            "\u001b[32m\u001b[1m  Installed\u001b[22m\u001b[39m Bzip2_jll ────── v1.0.6+4\n",
            "\u001b[32m\u001b[1m  Installed\u001b[22m\u001b[39m FFMPEG ───────── v0.4.0\n",
            "\u001b[32m\u001b[1m  Installed\u001b[22m\u001b[39m x265_jll ─────── v3.0.0+2\n",
            "\u001b[32m\u001b[1m  Installed\u001b[22m\u001b[39m PlotThemes ───── v2.0.0\n",
            "\u001b[32m\u001b[1m  Installed\u001b[22m\u001b[39m LAME_jll ─────── v3.100.0+2\n",
            "\u001b[32m\u001b[1m  Installed\u001b[22m\u001b[39m Ogg_jll ──────── v1.3.4+1\n",
            "\u001b[32m\u001b[1m  Installed\u001b[22m\u001b[39m IniFile ──────── v0.5.0\n",
            "\u001b[32m\u001b[1m  Installed\u001b[22m\u001b[39m libvorbis_jll ── v1.3.6+5\n",
            "\u001b[32m\u001b[1m  Installed\u001b[22m\u001b[39m PlotUtils ────── v1.0.6\n",
            "\u001b[32m\u001b[1m  Installed\u001b[22m\u001b[39m OpenSSL_jll ──── v1.1.1+5\n",
            "\u001b[32m\u001b[1m  Installed\u001b[22m\u001b[39m HTTP ─────────── v0.8.17\n",
            "\u001b[32m\u001b[1m  Installed\u001b[22m\u001b[39m LibVPX_jll ───── v1.9.0+0\n",
            "\u001b[32m\u001b[1m  Installed\u001b[22m\u001b[39m GR ───────────── v0.51.0\n",
            "\u001b[32m\u001b[1m  Installed\u001b[22m\u001b[39m Contour ──────── v0.5.4\n",
            "\u001b[32m\u001b[1m  Installed\u001b[22m\u001b[39m GeometryTypes ── v0.8.3\n",
            "\u001b[32m\u001b[1m  Installed\u001b[22m\u001b[39m ColorSchemes ─── v3.9.0\n",
            "######################################################################### 100.0%\n",
            "######################################################################### 100.0%\n",
            "######################################################################### 100.0%\n",
            "######################################################################### 100.0%\n",
            "######################################################################### 100.0%\n",
            "######################################################################### 100.0%\n",
            "######################################################################### 100.0%\n",
            "######################################################################### 100.0%\n",
            "######################################################################### 100.0%\n",
            "######################################################################### 100.0%\n",
            "######################################################################### 100.0%\n",
            "######################################################################### 100.0%\n",
            "######################################################################### 100.0%\n",
            "######################################################################### 100.0%\n",
            "\u001b[32m\u001b[1mUpdating\u001b[22m\u001b[39m `~/.julia/environments/v1.5/Project.toml`\n",
            " \u001b[90m [91a5bcdd] \u001b[39m\u001b[92m+ Plots v0.27.1\u001b[39m\n",
            "\u001b[32m\u001b[1mUpdating\u001b[22m\u001b[39m `~/.julia/environments/v1.5/Manifest.toml`\n",
            " \u001b[90m [6e34b625] \u001b[39m\u001b[92m+ Bzip2_jll v1.0.6+4\u001b[39m\n",
            " \u001b[90m [35d6a980] \u001b[39m\u001b[92m+ ColorSchemes v3.9.0\u001b[39m\n",
            " \u001b[90m [d38c429a] \u001b[39m\u001b[92m+ Contour v0.5.4\u001b[39m\n",
            " \u001b[90m [c87230d0] \u001b[39m\u001b[92m+ FFMPEG v0.4.0\u001b[39m\n",
            " \u001b[90m [b22a6f82] \u001b[39m\u001b[92m+ FFMPEG_jll v4.3.1+2\u001b[39m\n",
            " \u001b[90m [d7e528f0] \u001b[39m\u001b[92m+ FreeType2_jll v2.10.1+4\u001b[39m\n",
            " \u001b[90m [559328eb] \u001b[39m\u001b[92m+ FriBidi_jll v1.0.5+5\u001b[39m\n",
            " \u001b[90m [28b8d3ca] \u001b[39m\u001b[92m+ GR v0.51.0\u001b[39m\n",
            " \u001b[90m [4d00f742] \u001b[39m\u001b[92m+ GeometryTypes v0.8.3\u001b[39m\n",
            " \u001b[90m [cd3eb016] \u001b[39m\u001b[92m+ HTTP v0.8.17\u001b[39m\n",
            " \u001b[90m [83e8ac13] \u001b[39m\u001b[92m+ IniFile v0.5.0\u001b[39m\n",
            " \u001b[90m [c1c5ebd0] \u001b[39m\u001b[92m+ LAME_jll v3.100.0+2\u001b[39m\n",
            " \u001b[90m [dd192d2f] \u001b[39m\u001b[92m+ LibVPX_jll v1.9.0+0\u001b[39m\n",
            " \u001b[90m [442fdcdd] \u001b[39m\u001b[92m+ Measures v0.3.1\u001b[39m\n",
            " \u001b[90m [e7412a2a] \u001b[39m\u001b[92m+ Ogg_jll v1.3.4+1\u001b[39m\n",
            " \u001b[90m [458c3c95] \u001b[39m\u001b[92m+ OpenSSL_jll v1.1.1+5\u001b[39m\n",
            " \u001b[90m [91d4177d] \u001b[39m\u001b[92m+ Opus_jll v1.3.1+2\u001b[39m\n",
            " \u001b[90m [ccf2f8ad] \u001b[39m\u001b[92m+ PlotThemes v2.0.0\u001b[39m\n",
            " \u001b[90m [995b91a9] \u001b[39m\u001b[92m+ PlotUtils v1.0.6\u001b[39m\n",
            " \u001b[90m [91a5bcdd] \u001b[39m\u001b[92m+ Plots v0.27.1\u001b[39m\n",
            " \u001b[90m [992d4aef] \u001b[39m\u001b[92m+ Showoff v0.3.1\u001b[39m\n",
            " \u001b[90m [0ac62f75] \u001b[39m\u001b[92m+ libass_jll v0.14.0+3\u001b[39m\n",
            " \u001b[90m [f638f0a6] \u001b[39m\u001b[92m+ libfdk_aac_jll v0.1.6+3\u001b[39m\n",
            " \u001b[90m [f27f6e37] \u001b[39m\u001b[92m+ libvorbis_jll v1.3.6+5\u001b[39m\n",
            " \u001b[90m [1270edf5] \u001b[39m\u001b[92m+ x264_jll v2020.7.14+1\u001b[39m\n",
            " \u001b[90m [dfaa095f] \u001b[39m\u001b[92m+ x265_jll v3.0.0+2\u001b[39m\n",
            "\u001b[32m\u001b[1m   Building\u001b[22m\u001b[39m GR ───→ `~/.julia/packages/GR/8mv9N/deps/build.log`\n",
            "\u001b[32m\u001b[1m   Building\u001b[22m\u001b[39m Plots → `~/.julia/packages/Plots/WwFyB/deps/build.log`\n"
          ],
          "name": "stderr"
        }
      ]
    },
    {
      "cell_type": "code",
      "metadata": {
        "id": "0v5oNQokctaA",
        "colab_type": "code",
        "colab": {}
      },
      "source": [
        "Pkg.add(\"PyCall\")"
      ],
      "execution_count": null,
      "outputs": []
    },
    {
      "cell_type": "code",
      "metadata": {
        "id": "5zowlNYkfCLk",
        "colab_type": "code",
        "colab": {
          "base_uri": "https://localhost:8080/",
          "height": 860
        },
        "outputId": "7dca4e3c-6c11-4575-b477-3e590c808955"
      },
      "source": [
        "## ----------- ALL COMMENT ----------------\n",
        "\n",
        "\n",
        "\n",
        "using Flux, DiffEqFlux, DifferentialEquations, Optim, Plots, PyCall\n",
        "\n",
        "np = pyimport(\"numpy\")\n",
        "plot_ = pyimport(\"matplotlib.pyplot\")\n",
        "str_ = pyimport(\"string\")\n",
        "\n",
        "\n",
        "#u0 = Float32[1.,0]\n",
        "u0 = Float32[2.; 0.]\n",
        "datasize = 30\n",
        "tspan = (0.0f0,1.0f0)\n",
        "\n",
        "function trueODEfunc(du,u,p,t)\n",
        "    #true_A = [1.1 1.2; 1.3 1.01]\n",
        "    #true_A = [1.0 1.0; 1.0 1.0]\n",
        "    true_A = [-0.1 2.0; -2.0 -0.1]\n",
        "    du .= ((u.^3)'true_A)'  ##  ((u.^2-12*u)'true_A)' ##              #   <------------------- ((u - 13*u.^2)'true_A)'      #((3u - 3*u.^2)'true_A)'\n",
        "end\n",
        "t = range(tspan[1],tspan[2],length=datasize)\n",
        "prob = ODEProblem(trueODEfunc,u0,tspan)\n",
        "\n",
        "#ode_data = Array(solve(prob,Tsit5(),saveat=t))\n",
        "ode_data = solve(prob,Tsit5(),saveat=t)\n",
        "\n",
        "dudt = Chain(x -> x.^3,    #x.^2-12*x ,              # <-----------------  # x->x - 13*x.^2,    \n",
        "             Dense(2,50,tanh),\n",
        "             #Dense(3,4,tanh),  \n",
        "             #Dense(4,2,tanh),     \n",
        "             #Dense(2,40,tanh),\n",
        "             Dense(50,2))\n",
        "ps = Flux.params(dudt)\n",
        "\n",
        "n_ode = x->neural_ode(dudt,x,tspan,Tsit5(),saveat=t,reltol=1e-7,abstol=1e-9)\n",
        "#n_ode = x->neural_ode(dudt,x,tspan,Rosenbrock23(autodiff=false),saveat=t,reltol=1e-7,abstol=1e-9)\n",
        "\n",
        "#pred = n_ode(u0) # Get the prediction using the correct initial condition\n",
        "\n",
        "function predict_n_ode()\n",
        "  n_ode(u0)\n",
        "end\n",
        "loss_n_ode() = sum(abs2,ode_data .- predict_n_ode())\n",
        "\n",
        "\n",
        "\n",
        "#---\n",
        "data = Iterators.repeated((), 1000)\n",
        "opt = ADAM(0.1)\n",
        "cb = function () #callback function to observe training\n",
        "  \n",
        "  display(loss_n_ode())\n",
        "  cur_pred = Flux.data(predict_n_ode())\n",
        "  #       --- interpret results ----\n",
        "  if loss_n_ode() <  .01\n",
        "    println(\"--<\")\n",
        "    x=np.array(ode_data[1,:])\n",
        "    y=np.array(cur_pred[1,:])\n",
        "    plot_.figure()\n",
        "    plot_.plot(t,x,color=\"red\", linewidth=2.0, linestyle=\"--\",label=\"Original curve\")\n",
        "    plot_.plot(t,y,color=\"blue\", linewidth=2.0, linestyle=\"--\",label=\"Approximation\")\n",
        "    plot_.title(\"N-ODE\")\n",
        "    plot_.legend()\n",
        "    tmp_name=string(\"./foo_\",string(loss_n_ode()),\"_.png\")\n",
        "    plot_.savefig(tmp_name)\n",
        "  end\n",
        "end\n",
        "\n",
        "# Display the ODE with the initial parameter values.\n",
        "cb()\n",
        "\n",
        "Flux.train!(loss_n_ode, ps, data, opt, cb = cb)"
      ],
      "execution_count": 112,
      "outputs": [
        {
          "output_type": "display_data",
          "data": {
            "text/plain": [
              "211.84094f0 (tracked)"
            ]
          },
          "metadata": {
            "tags": []
          }
        },
        {
          "output_type": "display_data",
          "data": {
            "text/plain": [
              "124.61611f0 (tracked)"
            ]
          },
          "metadata": {
            "tags": []
          }
        },
        {
          "output_type": "display_data",
          "data": {
            "text/plain": [
              "93.20852f0 (tracked)"
            ]
          },
          "metadata": {
            "tags": []
          }
        },
        {
          "output_type": "display_data",
          "data": {
            "text/plain": [
              "80.14637f0 (tracked)"
            ]
          },
          "metadata": {
            "tags": []
          }
        },
        {
          "output_type": "display_data",
          "data": {
            "text/plain": [
              "73.743805f0 (tracked)"
            ]
          },
          "metadata": {
            "tags": []
          }
        },
        {
          "output_type": "display_data",
          "data": {
            "text/plain": [
              "64.128395f0 (tracked)"
            ]
          },
          "metadata": {
            "tags": []
          }
        },
        {
          "output_type": "display_data",
          "data": {
            "text/plain": [
              "58.82119f0 (tracked)"
            ]
          },
          "metadata": {
            "tags": []
          }
        },
        {
          "output_type": "display_data",
          "data": {
            "text/plain": [
              "57.412014f0 (tracked)"
            ]
          },
          "metadata": {
            "tags": []
          }
        },
        {
          "output_type": "display_data",
          "data": {
            "text/plain": [
              "67.15335f0 (tracked)"
            ]
          },
          "metadata": {
            "tags": []
          }
        },
        {
          "output_type": "display_data",
          "data": {
            "text/plain": [
              "61.529346f0 (tracked)"
            ]
          },
          "metadata": {
            "tags": []
          }
        },
        {
          "output_type": "display_data",
          "data": {
            "text/plain": [
              "62.817883f0 (tracked)"
            ]
          },
          "metadata": {
            "tags": []
          }
        },
        {
          "output_type": "display_data",
          "data": {
            "text/plain": [
              "60.902115f0 (tracked)"
            ]
          },
          "metadata": {
            "tags": []
          }
        },
        {
          "output_type": "display_data",
          "data": {
            "text/plain": [
              "62.253296f0 (tracked)"
            ]
          },
          "metadata": {
            "tags": []
          }
        },
        {
          "output_type": "display_data",
          "data": {
            "text/plain": [
              "65.64569f0 (tracked)"
            ]
          },
          "metadata": {
            "tags": []
          }
        },
        {
          "output_type": "display_data",
          "data": {
            "text/plain": [
              "70.297516f0 (tracked)"
            ]
          },
          "metadata": {
            "tags": []
          }
        },
        {
          "output_type": "display_data",
          "data": {
            "text/plain": [
              "71.84446f0 (tracked)"
            ]
          },
          "metadata": {
            "tags": []
          }
        },
        {
          "output_type": "display_data",
          "data": {
            "text/plain": [
              "75.33956f0 (tracked)"
            ]
          },
          "metadata": {
            "tags": []
          }
        },
        {
          "output_type": "display_data",
          "data": {
            "text/plain": [
              "76.01406f0 (tracked)"
            ]
          },
          "metadata": {
            "tags": []
          }
        },
        {
          "output_type": "display_data",
          "data": {
            "text/plain": [
              "78.901794f0 (tracked)"
            ]
          },
          "metadata": {
            "tags": []
          }
        },
        {
          "output_type": "display_data",
          "data": {
            "text/plain": [
              "78.938644f0 (tracked)"
            ]
          },
          "metadata": {
            "tags": []
          }
        },
        {
          "output_type": "display_data",
          "data": {
            "text/plain": [
              "76.66969f0 (tracked)"
            ]
          },
          "metadata": {
            "tags": []
          }
        },
        {
          "output_type": "display_data",
          "data": {
            "text/plain": [
              "72.20058f0 (tracked)"
            ]
          },
          "metadata": {
            "tags": []
          }
        },
        {
          "output_type": "display_data",
          "data": {
            "text/plain": [
              "70.06224f0 (tracked)"
            ]
          },
          "metadata": {
            "tags": []
          }
        },
        {
          "output_type": "display_data",
          "data": {
            "text/plain": [
              "68.67949f0 (tracked)"
            ]
          },
          "metadata": {
            "tags": []
          }
        },
        {
          "output_type": "display_data",
          "data": {
            "text/plain": [
              "67.81865f0 (tracked)"
            ]
          },
          "metadata": {
            "tags": []
          }
        },
        {
          "output_type": "display_data",
          "data": {
            "text/plain": [
              "69.104065f0 (tracked)"
            ]
          },
          "metadata": {
            "tags": []
          }
        },
        {
          "output_type": "display_data",
          "data": {
            "text/plain": [
              "72.3932f0 (tracked)"
            ]
          },
          "metadata": {
            "tags": []
          }
        },
        {
          "output_type": "display_data",
          "data": {
            "text/plain": [
              "77.73747f0 (tracked)"
            ]
          },
          "metadata": {
            "tags": []
          }
        },
        {
          "output_type": "display_data",
          "data": {
            "text/plain": [
              "84.28102f0 (tracked)"
            ]
          },
          "metadata": {
            "tags": []
          }
        },
        {
          "output_type": "display_data",
          "data": {
            "text/plain": [
              "88.363335f0 (tracked)"
            ]
          },
          "metadata": {
            "tags": []
          }
        },
        {
          "output_type": "display_data",
          "data": {
            "text/plain": [
              "93.70221f0 (tracked)"
            ]
          },
          "metadata": {
            "tags": []
          }
        },
        {
          "output_type": "display_data",
          "data": {
            "text/plain": [
              "96.93948f0 (tracked)"
            ]
          },
          "metadata": {
            "tags": []
          }
        },
        {
          "output_type": "display_data",
          "data": {
            "text/plain": [
              "97.98992f0 (tracked)"
            ]
          },
          "metadata": {
            "tags": []
          }
        },
        {
          "output_type": "display_data",
          "data": {
            "text/plain": [
              "100.84218f0 (tracked)"
            ]
          },
          "metadata": {
            "tags": []
          }
        },
        {
          "output_type": "error",
          "ename": "LoadError",
          "evalue": "ignored",
          "traceback": [
            "InterruptException:",
            "",
            "Stacktrace:",
            " [1] gradient_(::Flux.Optimise.var\"#15#21\"{typeof(loss_n_ode),Tuple{}}, ::Tracker.Params) at /root/.julia/packages/Tracker/AMi2h/src/back.jl:7",
            " [2] gradient(::Function, ::Tracker.Params; nest::Bool) at /root/.julia/packages/Tracker/AMi2h/src/back.jl:164",
            " [3] gradient at /root/.julia/packages/Tracker/AMi2h/src/back.jl:164 [inlined]",
            " [4] macro expansion at /root/.julia/packages/Flux/qXNjB/src/optimise/train.jl:71 [inlined]",
            " [5] macro expansion at /root/.julia/packages/Juno/hEPx8/src/progress.jl:134 [inlined]",
            " [6] train!(::Function, ::Tracker.Params, ::Base.Iterators.Take{Base.Iterators.Repeated{Tuple{}}}, ::ADAM; cb::var\"#475#476\") at /root/.julia/packages/Flux/qXNjB/src/optimise/train.jl:69",
            " [7] top-level scope at In[112]:70",
            " [8] include_string(::Function, ::Module, ::String, ::String) at ./loading.jl:1091"
          ]
        }
      ]
    },
    {
      "cell_type": "code",
      "metadata": {
        "id": "wpausG29_gXY",
        "colab_type": "code",
        "colab": {}
      },
      "source": [
        "using Flux, DiffEqFlux, DifferentialEquations, Plots, PyCall\n",
        "\n",
        "\n",
        "np = pyimport(\"numpy\")\n",
        "plot_ = pyimport(\"matplotlib.pyplot\")\n",
        "str_ = pyimport(\"string\")\n",
        "\n",
        "u0 = Float32[2.; 0.]\n",
        "datasize = 30\n",
        "tspan = (0.0f0,1.0f0)\n",
        "\n",
        "function trueODEfunc(du,u,p,t)\n",
        "    true_A = [-0.1 2.0; -2.0 -0.1]\n",
        "    du .= ((2*u.^3-2*u.^2-2*u)'true_A)'   #<-------\n",
        "end\n",
        "t = range(tspan[1],tspan[2],length=datasize)\n",
        "prob = ODEProblem(trueODEfunc,u0,tspan)\n",
        "\n",
        "#ode_data = Array(solve(prob,Tsit5(),saveat=t))\n",
        "ode_data = solve(prob,Tsit5(),saveat=t)\n",
        "\n",
        "dudt = Chain(x -> 2*x.^3-2*x.^2-2*x,   #<----------\n",
        "             Dense(2,30,tanh),\n",
        "             Dense(30,2))\n",
        "ps = Flux.params(dudt)\n",
        "n_ode = x->neural_ode(dudt,x,tspan,Tsit5(),saveat=t,reltol=1e-5,abstol=1e-5)\n",
        "#n_ode = x->neural_ode(dudt,x,tspan,Rosenbrock23(autodiff=false),saveat=t,reltol=1e-9,abstol=1e-9)\n",
        "\n",
        "pred = n_ode(u0) # Get the prediction using the correct initial condition\n",
        "#scatter(t,ode_data[1,:],label=\"data\")\n",
        "#scatter!(t,Flux.data(pred[1,:]),label=\"prediction\")\n",
        "\n",
        "function predict_n_ode()\n",
        "  n_ode(u0)\n",
        "end\n",
        "loss_n_ode() = sum(abs2,ode_data .- predict_n_ode())\n",
        "\n",
        "data = Iterators.repeated((), 10000)\n",
        "opt = ADAM(0.001)                                                ##<<------\n",
        "cb = function () #callback function to observe training\n",
        "  display(loss_n_ode())\n",
        "  cur_pred = Flux.data(predict_n_ode())\n",
        "  #       --- interpret results ----\n",
        "  if  loss_n_ode() < 50 && loss_n_ode() > 20 \n",
        "    x=np.array(ode_data[1,:])\n",
        "    y=np.array(cur_pred[1,:])\n",
        "    plot_.figure()\n",
        "    plot_.plot(t,x,color=\"red\", linewidth=2.0, linestyle=\"--\",label=\"Original curve\")\n",
        "    plot_.plot(t,y,color=\"blue\", linewidth=2.0, linestyle=\"--\",label=\"Approximation\")\n",
        "    plot_.title(\"N-ODE\")\n",
        "    plot_.legend()\n",
        "    tmp_name=string(\"./foo_\",string(loss_n_ode()),\"_.png\")\n",
        "    plot_.savefig(tmp_name)\n",
        "  end\n",
        "\n",
        "  if  loss_n_ode() < 9 && loss_n_ode() > 8.5 \n",
        "    x=np.array(ode_data[1,:])\n",
        "    y=np.array(cur_pred[1,:])\n",
        "    plot_.figure()\n",
        "    plot_.plot(t,x,color=\"red\", linewidth=2.0, linestyle=\"--\",label=\"Original curve\")\n",
        "    plot_.plot(t,y,color=\"blue\", linewidth=2.0, linestyle=\"--\",label=\"Approximation\")\n",
        "    plot_.title(\"N-ODE\")\n",
        "    plot_.legend()\n",
        "    tmp_name=string(\"./foo_\",string(loss_n_ode()),\"_.png\")\n",
        "    plot_.savefig(tmp_name)\n",
        "  end\n",
        "\n",
        "  \n",
        "  if  loss_n_ode() < 7 && loss_n_ode() > 6.5\n",
        "    x=np.array(ode_data[1,:])\n",
        "    y=np.array(cur_pred[1,:])\n",
        "    plot_.figure()\n",
        "    plot_.plot(t,x,color=\"red\", linewidth=2.0, linestyle=\"--\",label=\"Original curve\")\n",
        "    plot_.plot(t,y,color=\"blue\", linewidth=2.0, linestyle=\"--\",label=\"Approximation\")\n",
        "    plot_.title(\"N-ODE\")\n",
        "    plot_.legend()\n",
        "    tmp_name=string(\"./foo_\",string(loss_n_ode()),\"_.png\")\n",
        "    plot_.savefig(tmp_name)\n",
        "  end\n",
        "\n",
        "  \n",
        "  if  loss_n_ode() < 5 && loss_n_ode() > 4.5 \n",
        "    x=np.array(ode_data[1,:])\n",
        "    y=np.array(cur_pred[1,:])\n",
        "    plot_.figure()\n",
        "    plot_.plot(t,x,color=\"red\", linewidth=2.0, linestyle=\"--\",label=\"Original curve\")\n",
        "    plot_.plot(t,y,color=\"blue\", linewidth=2.0, linestyle=\"--\",label=\"Approximation\")\n",
        "    plot_.title(\"N-ODE\")\n",
        "    plot_.legend()\n",
        "    tmp_name=string(\"./foo_\",string(loss_n_ode()),\"_.png\")\n",
        "    plot_.savefig(tmp_name)\n",
        "  end\n",
        "\n",
        "\n",
        "  if  loss_n_ode() < 3 && loss_n_ode() > 2.5 \n",
        "    x=np.array(ode_data[1,:])\n",
        "    y=np.array(cur_pred[1,:])\n",
        "    plot_.figure()\n",
        "    plot_.plot(t,x,color=\"red\", linewidth=2.0, linestyle=\"--\",label=\"Original curve\")\n",
        "    plot_.plot(t,y,color=\"blue\", linewidth=2.0, linestyle=\"--\",label=\"Approximation\")\n",
        "    plot_.title(\"N-ODE\")\n",
        "    plot_.legend()\n",
        "    tmp_name=string(\"./foo_\",string(loss_n_ode()),\"_.png\")\n",
        "    plot_.savefig(tmp_name)\n",
        "  end\n",
        "\n",
        "  \n",
        "  if  loss_n_ode() < 1 && loss_n_ode() > .5 \n",
        "    x=np.array(ode_data[1,:])\n",
        "    y=np.array(cur_pred[1,:])\n",
        "    plot_.figure()\n",
        "    plot_.plot(t,x,color=\"red\", linewidth=2.0, linestyle=\"--\",label=\"Original curve\")\n",
        "    plot_.plot(t,y,color=\"blue\", linewidth=2.0, linestyle=\"--\",label=\"Approximation\")\n",
        "    plot_.title(\"N-ODE\")\n",
        "    plot_.legend()\n",
        "    tmp_name=string(\"./foo_\",string(loss_n_ode()),\"_.png\")\n",
        "    plot_.savefig(tmp_name)\n",
        "  end\n",
        "\n",
        "end\n",
        "\n",
        "# Display the ODE with the initial parameter values.\n",
        "cb()\n",
        "\n",
        "Flux.train!(loss_n_ode, ps, data, opt, cb = cb)"
      ],
      "execution_count": null,
      "outputs": []
    },
    {
      "cell_type": "code",
      "metadata": {
        "id": "ZWfbQO8U_4ty",
        "colab_type": "code",
        "colab": {}
      },
      "source": [
        "foreach(rm, filter(endswith(\".png\"), readdir()))"
      ],
      "execution_count": 39,
      "outputs": []
    }
  ]
}